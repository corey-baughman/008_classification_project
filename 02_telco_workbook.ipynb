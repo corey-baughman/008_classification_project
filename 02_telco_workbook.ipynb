{
 "cells": [
  {
   "cell_type": "markdown",
   "id": "39021c39-3e1b-4a0b-94b1-1bff8ae5c8a9",
   "metadata": {},
   "source": [
    "# Telco Churn Project Notebook 2"
   ]
  },
  {
   "cell_type": "code",
   "execution_count": 1,
   "id": "efd6a7fc-3e01-4262-972d-f20dfb59b777",
   "metadata": {},
   "outputs": [],
   "source": [
    "import numpy as np\n",
    "import seaborn as sns\n",
    "import scipy.stats as stats\n",
    "import pandas as pd\n",
    "import matplotlib.pyplot as plt\n",
    "import itertools\n",
    "from math import sqrt\n",
    "# to turn off pink warning boxes basically for display purposes in class\n",
    "# import warnings\n",
    "# warnings.filterwarnings('ignore')\n",
    "\n",
    "# import splitting and imputing functions\n",
    "from sklearn.model_selection import train_test_split\n",
    "from sklearn.impute import SimpleImputer\n",
    "\n",
    "# classification algorithms\n",
    "from sklearn.tree import DecisionTreeClassifier, export_text, plot_tree\n",
    "from sklearn.ensemble import RandomForestClassifier\n",
    "from sklearn.neighbors import KNeighborsClassifier\n",
    "from sklearn.linear_model import LogisticRegression\n",
    "\n",
    "# classification analysis\n",
    "from sklearn.metrics import classification_report\n",
    "from sklearn.metrics import confusion_matrix\n",
    "\n",
    "# to see local file system\n",
    "import os\n",
    "\n",
    "# import our own modules\n",
    "import env\n",
    "import acquire as a\n",
    "import prepare as p\n",
    "\n",
    "# jupyter settings\n",
    "%matplotlib inline"
   ]
  },
  {
   "cell_type": "code",
   "execution_count": 2,
   "id": "f6c5177b-c356-49db-a5db-f95e49ef6bc2",
   "metadata": {},
   "outputs": [],
   "source": [
    "train, val, test = p.wrangle_telco()"
   ]
  },
  {
   "cell_type": "code",
   "execution_count": 3,
   "id": "7ed748ed-8408-4127-a1ac-ade457c5f98b",
   "metadata": {},
   "outputs": [
    {
     "data": {
      "text/html": [
       "<div>\n",
       "<style scoped>\n",
       "    .dataframe tbody tr th:only-of-type {\n",
       "        vertical-align: middle;\n",
       "    }\n",
       "\n",
       "    .dataframe tbody tr th {\n",
       "        vertical-align: top;\n",
       "    }\n",
       "\n",
       "    .dataframe thead th {\n",
       "        text-align: right;\n",
       "    }\n",
       "</style>\n",
       "<table border=\"1\" class=\"dataframe\">\n",
       "  <thead>\n",
       "    <tr style=\"text-align: right;\">\n",
       "      <th></th>\n",
       "      <th>4841</th>\n",
       "      <th>852</th>\n",
       "      <th>2923</th>\n",
       "      <th>4162</th>\n",
       "      <th>4261</th>\n",
       "    </tr>\n",
       "  </thead>\n",
       "  <tbody>\n",
       "    <tr>\n",
       "      <th>customer_id</th>\n",
       "      <td>3714-XPXBW</td>\n",
       "      <td>1236-WFCDV</td>\n",
       "      <td>5099-BAILX</td>\n",
       "      <td>8445-DNBAE</td>\n",
       "      <td>8763-KIAFH</td>\n",
       "    </tr>\n",
       "    <tr>\n",
       "      <th>gender</th>\n",
       "      <td>Female</td>\n",
       "      <td>Male</td>\n",
       "      <td>Male</td>\n",
       "      <td>Male</td>\n",
       "      <td>Female</td>\n",
       "    </tr>\n",
       "    <tr>\n",
       "      <th>senior_citizen</th>\n",
       "      <td>0</td>\n",
       "      <td>1</td>\n",
       "      <td>1</td>\n",
       "      <td>0</td>\n",
       "      <td>0</td>\n",
       "    </tr>\n",
       "    <tr>\n",
       "      <th>partner</th>\n",
       "      <td>No</td>\n",
       "      <td>No</td>\n",
       "      <td>Yes</td>\n",
       "      <td>No</td>\n",
       "      <td>Yes</td>\n",
       "    </tr>\n",
       "    <tr>\n",
       "      <th>dependents</th>\n",
       "      <td>No</td>\n",
       "      <td>No</td>\n",
       "      <td>Yes</td>\n",
       "      <td>Yes</td>\n",
       "      <td>Yes</td>\n",
       "    </tr>\n",
       "    <tr>\n",
       "      <th>tenure</th>\n",
       "      <td>37</td>\n",
       "      <td>14</td>\n",
       "      <td>43</td>\n",
       "      <td>1</td>\n",
       "      <td>27</td>\n",
       "    </tr>\n",
       "    <tr>\n",
       "      <th>phone_service</th>\n",
       "      <td>Yes</td>\n",
       "      <td>Yes</td>\n",
       "      <td>Yes</td>\n",
       "      <td>Yes</td>\n",
       "      <td>Yes</td>\n",
       "    </tr>\n",
       "    <tr>\n",
       "      <th>multiple_lines</th>\n",
       "      <td>Yes</td>\n",
       "      <td>No</td>\n",
       "      <td>Yes</td>\n",
       "      <td>Yes</td>\n",
       "      <td>No</td>\n",
       "    </tr>\n",
       "    <tr>\n",
       "      <th>online_security</th>\n",
       "      <td>Yes</td>\n",
       "      <td>No</td>\n",
       "      <td>No</td>\n",
       "      <td>No</td>\n",
       "      <td>No internet service</td>\n",
       "    </tr>\n",
       "    <tr>\n",
       "      <th>online_backup</th>\n",
       "      <td>Yes</td>\n",
       "      <td>No</td>\n",
       "      <td>Yes</td>\n",
       "      <td>No</td>\n",
       "      <td>No internet service</td>\n",
       "    </tr>\n",
       "    <tr>\n",
       "      <th>device_protection</th>\n",
       "      <td>Yes</td>\n",
       "      <td>No</td>\n",
       "      <td>Yes</td>\n",
       "      <td>No</td>\n",
       "      <td>No internet service</td>\n",
       "    </tr>\n",
       "    <tr>\n",
       "      <th>tech_support</th>\n",
       "      <td>Yes</td>\n",
       "      <td>No</td>\n",
       "      <td>Yes</td>\n",
       "      <td>No</td>\n",
       "      <td>No internet service</td>\n",
       "    </tr>\n",
       "    <tr>\n",
       "      <th>streaming_tv</th>\n",
       "      <td>Yes</td>\n",
       "      <td>Yes</td>\n",
       "      <td>Yes</td>\n",
       "      <td>No</td>\n",
       "      <td>No internet service</td>\n",
       "    </tr>\n",
       "    <tr>\n",
       "      <th>streaming_movies</th>\n",
       "      <td>No</td>\n",
       "      <td>Yes</td>\n",
       "      <td>Yes</td>\n",
       "      <td>No</td>\n",
       "      <td>No internet service</td>\n",
       "    </tr>\n",
       "    <tr>\n",
       "      <th>paperless_billing</th>\n",
       "      <td>Yes</td>\n",
       "      <td>No</td>\n",
       "      <td>Yes</td>\n",
       "      <td>Yes</td>\n",
       "      <td>Yes</td>\n",
       "    </tr>\n",
       "    <tr>\n",
       "      <th>monthly_charges</th>\n",
       "      <td>78.9</td>\n",
       "      <td>90.45</td>\n",
       "      <td>110.75</td>\n",
       "      <td>50.05</td>\n",
       "      <td>20.55</td>\n",
       "    </tr>\n",
       "    <tr>\n",
       "      <th>total_charges</th>\n",
       "      <td>2976.95</td>\n",
       "      <td>1266.1</td>\n",
       "      <td>4687.9</td>\n",
       "      <td>50.05</td>\n",
       "      <td>583.3</td>\n",
       "    </tr>\n",
       "    <tr>\n",
       "      <th>churn</th>\n",
       "      <td>No</td>\n",
       "      <td>Yes</td>\n",
       "      <td>Yes</td>\n",
       "      <td>No</td>\n",
       "      <td>No</td>\n",
       "    </tr>\n",
       "    <tr>\n",
       "      <th>internet_service_type</th>\n",
       "      <td>DSL</td>\n",
       "      <td>Fiber optic</td>\n",
       "      <td>Fiber optic</td>\n",
       "      <td>DSL</td>\n",
       "      <td>None</td>\n",
       "    </tr>\n",
       "    <tr>\n",
       "      <th>contract_type</th>\n",
       "      <td>Month-to-month</td>\n",
       "      <td>Month-to-month</td>\n",
       "      <td>Month-to-month</td>\n",
       "      <td>Month-to-month</td>\n",
       "      <td>One year</td>\n",
       "    </tr>\n",
       "    <tr>\n",
       "      <th>payment_type</th>\n",
       "      <td>Credit card (automatic)</td>\n",
       "      <td>Credit card (automatic)</td>\n",
       "      <td>Bank transfer (automatic)</td>\n",
       "      <td>Electronic check</td>\n",
       "      <td>Mailed check</td>\n",
       "    </tr>\n",
       "    <tr>\n",
       "      <th>gender_encoded</th>\n",
       "      <td>1</td>\n",
       "      <td>0</td>\n",
       "      <td>0</td>\n",
       "      <td>0</td>\n",
       "      <td>1</td>\n",
       "    </tr>\n",
       "    <tr>\n",
       "      <th>partner_encoded</th>\n",
       "      <td>0</td>\n",
       "      <td>0</td>\n",
       "      <td>1</td>\n",
       "      <td>0</td>\n",
       "      <td>1</td>\n",
       "    </tr>\n",
       "    <tr>\n",
       "      <th>dependents_encoded</th>\n",
       "      <td>0</td>\n",
       "      <td>0</td>\n",
       "      <td>1</td>\n",
       "      <td>1</td>\n",
       "      <td>1</td>\n",
       "    </tr>\n",
       "    <tr>\n",
       "      <th>phone_service_encoded</th>\n",
       "      <td>1</td>\n",
       "      <td>1</td>\n",
       "      <td>1</td>\n",
       "      <td>1</td>\n",
       "      <td>1</td>\n",
       "    </tr>\n",
       "    <tr>\n",
       "      <th>paperless_billing_encoded</th>\n",
       "      <td>1</td>\n",
       "      <td>0</td>\n",
       "      <td>1</td>\n",
       "      <td>1</td>\n",
       "      <td>1</td>\n",
       "    </tr>\n",
       "    <tr>\n",
       "      <th>churn_encoded</th>\n",
       "      <td>0</td>\n",
       "      <td>1</td>\n",
       "      <td>1</td>\n",
       "      <td>0</td>\n",
       "      <td>0</td>\n",
       "    </tr>\n",
       "    <tr>\n",
       "      <th>multiple_lines_No phone service</th>\n",
       "      <td>0</td>\n",
       "      <td>0</td>\n",
       "      <td>0</td>\n",
       "      <td>0</td>\n",
       "      <td>0</td>\n",
       "    </tr>\n",
       "    <tr>\n",
       "      <th>multiple_lines_Yes</th>\n",
       "      <td>1</td>\n",
       "      <td>0</td>\n",
       "      <td>1</td>\n",
       "      <td>1</td>\n",
       "      <td>0</td>\n",
       "    </tr>\n",
       "    <tr>\n",
       "      <th>online_security_No internet service</th>\n",
       "      <td>0</td>\n",
       "      <td>0</td>\n",
       "      <td>0</td>\n",
       "      <td>0</td>\n",
       "      <td>1</td>\n",
       "    </tr>\n",
       "    <tr>\n",
       "      <th>online_security_Yes</th>\n",
       "      <td>1</td>\n",
       "      <td>0</td>\n",
       "      <td>0</td>\n",
       "      <td>0</td>\n",
       "      <td>0</td>\n",
       "    </tr>\n",
       "    <tr>\n",
       "      <th>online_backup_No internet service</th>\n",
       "      <td>0</td>\n",
       "      <td>0</td>\n",
       "      <td>0</td>\n",
       "      <td>0</td>\n",
       "      <td>1</td>\n",
       "    </tr>\n",
       "    <tr>\n",
       "      <th>online_backup_Yes</th>\n",
       "      <td>1</td>\n",
       "      <td>0</td>\n",
       "      <td>1</td>\n",
       "      <td>0</td>\n",
       "      <td>0</td>\n",
       "    </tr>\n",
       "    <tr>\n",
       "      <th>device_protection_No internet service</th>\n",
       "      <td>0</td>\n",
       "      <td>0</td>\n",
       "      <td>0</td>\n",
       "      <td>0</td>\n",
       "      <td>1</td>\n",
       "    </tr>\n",
       "    <tr>\n",
       "      <th>device_protection_Yes</th>\n",
       "      <td>1</td>\n",
       "      <td>0</td>\n",
       "      <td>1</td>\n",
       "      <td>0</td>\n",
       "      <td>0</td>\n",
       "    </tr>\n",
       "    <tr>\n",
       "      <th>tech_support_No internet service</th>\n",
       "      <td>0</td>\n",
       "      <td>0</td>\n",
       "      <td>0</td>\n",
       "      <td>0</td>\n",
       "      <td>1</td>\n",
       "    </tr>\n",
       "    <tr>\n",
       "      <th>tech_support_Yes</th>\n",
       "      <td>1</td>\n",
       "      <td>0</td>\n",
       "      <td>1</td>\n",
       "      <td>0</td>\n",
       "      <td>0</td>\n",
       "    </tr>\n",
       "    <tr>\n",
       "      <th>streaming_tv_No internet service</th>\n",
       "      <td>0</td>\n",
       "      <td>0</td>\n",
       "      <td>0</td>\n",
       "      <td>0</td>\n",
       "      <td>1</td>\n",
       "    </tr>\n",
       "    <tr>\n",
       "      <th>streaming_tv_Yes</th>\n",
       "      <td>1</td>\n",
       "      <td>1</td>\n",
       "      <td>1</td>\n",
       "      <td>0</td>\n",
       "      <td>0</td>\n",
       "    </tr>\n",
       "    <tr>\n",
       "      <th>streaming_movies_No internet service</th>\n",
       "      <td>0</td>\n",
       "      <td>0</td>\n",
       "      <td>0</td>\n",
       "      <td>0</td>\n",
       "      <td>1</td>\n",
       "    </tr>\n",
       "    <tr>\n",
       "      <th>streaming_movies_Yes</th>\n",
       "      <td>0</td>\n",
       "      <td>1</td>\n",
       "      <td>1</td>\n",
       "      <td>0</td>\n",
       "      <td>0</td>\n",
       "    </tr>\n",
       "    <tr>\n",
       "      <th>contract_type_One year</th>\n",
       "      <td>0</td>\n",
       "      <td>0</td>\n",
       "      <td>0</td>\n",
       "      <td>0</td>\n",
       "      <td>1</td>\n",
       "    </tr>\n",
       "    <tr>\n",
       "      <th>contract_type_Two year</th>\n",
       "      <td>0</td>\n",
       "      <td>0</td>\n",
       "      <td>0</td>\n",
       "      <td>0</td>\n",
       "      <td>0</td>\n",
       "    </tr>\n",
       "    <tr>\n",
       "      <th>internet_service_type_Fiber optic</th>\n",
       "      <td>0</td>\n",
       "      <td>1</td>\n",
       "      <td>1</td>\n",
       "      <td>0</td>\n",
       "      <td>0</td>\n",
       "    </tr>\n",
       "    <tr>\n",
       "      <th>internet_service_type_None</th>\n",
       "      <td>0</td>\n",
       "      <td>0</td>\n",
       "      <td>0</td>\n",
       "      <td>0</td>\n",
       "      <td>1</td>\n",
       "    </tr>\n",
       "    <tr>\n",
       "      <th>payment_type_Credit card (automatic)</th>\n",
       "      <td>1</td>\n",
       "      <td>1</td>\n",
       "      <td>0</td>\n",
       "      <td>0</td>\n",
       "      <td>0</td>\n",
       "    </tr>\n",
       "    <tr>\n",
       "      <th>payment_type_Electronic check</th>\n",
       "      <td>0</td>\n",
       "      <td>0</td>\n",
       "      <td>0</td>\n",
       "      <td>1</td>\n",
       "      <td>0</td>\n",
       "    </tr>\n",
       "    <tr>\n",
       "      <th>payment_type_Mailed check</th>\n",
       "      <td>0</td>\n",
       "      <td>0</td>\n",
       "      <td>0</td>\n",
       "      <td>0</td>\n",
       "      <td>1</td>\n",
       "    </tr>\n",
       "  </tbody>\n",
       "</table>\n",
       "</div>"
      ],
      "text/plain": [
       "                                                          4841  \\\n",
       "customer_id                                         3714-XPXBW   \n",
       "gender                                                  Female   \n",
       "senior_citizen                                               0   \n",
       "partner                                                     No   \n",
       "dependents                                                  No   \n",
       "tenure                                                      37   \n",
       "phone_service                                              Yes   \n",
       "multiple_lines                                             Yes   \n",
       "online_security                                            Yes   \n",
       "online_backup                                              Yes   \n",
       "device_protection                                          Yes   \n",
       "tech_support                                               Yes   \n",
       "streaming_tv                                               Yes   \n",
       "streaming_movies                                            No   \n",
       "paperless_billing                                          Yes   \n",
       "monthly_charges                                           78.9   \n",
       "total_charges                                          2976.95   \n",
       "churn                                                       No   \n",
       "internet_service_type                                      DSL   \n",
       "contract_type                                   Month-to-month   \n",
       "payment_type                           Credit card (automatic)   \n",
       "gender_encoded                                               1   \n",
       "partner_encoded                                              0   \n",
       "dependents_encoded                                           0   \n",
       "phone_service_encoded                                        1   \n",
       "paperless_billing_encoded                                    1   \n",
       "churn_encoded                                                0   \n",
       "multiple_lines_No phone service                              0   \n",
       "multiple_lines_Yes                                           1   \n",
       "online_security_No internet service                          0   \n",
       "online_security_Yes                                          1   \n",
       "online_backup_No internet service                            0   \n",
       "online_backup_Yes                                            1   \n",
       "device_protection_No internet service                        0   \n",
       "device_protection_Yes                                        1   \n",
       "tech_support_No internet service                             0   \n",
       "tech_support_Yes                                             1   \n",
       "streaming_tv_No internet service                             0   \n",
       "streaming_tv_Yes                                             1   \n",
       "streaming_movies_No internet service                         0   \n",
       "streaming_movies_Yes                                         0   \n",
       "contract_type_One year                                       0   \n",
       "contract_type_Two year                                       0   \n",
       "internet_service_type_Fiber optic                            0   \n",
       "internet_service_type_None                                   0   \n",
       "payment_type_Credit card (automatic)                         1   \n",
       "payment_type_Electronic check                                0   \n",
       "payment_type_Mailed check                                    0   \n",
       "\n",
       "                                                          852   \\\n",
       "customer_id                                         1236-WFCDV   \n",
       "gender                                                    Male   \n",
       "senior_citizen                                               1   \n",
       "partner                                                     No   \n",
       "dependents                                                  No   \n",
       "tenure                                                      14   \n",
       "phone_service                                              Yes   \n",
       "multiple_lines                                              No   \n",
       "online_security                                             No   \n",
       "online_backup                                               No   \n",
       "device_protection                                           No   \n",
       "tech_support                                                No   \n",
       "streaming_tv                                               Yes   \n",
       "streaming_movies                                           Yes   \n",
       "paperless_billing                                           No   \n",
       "monthly_charges                                          90.45   \n",
       "total_charges                                           1266.1   \n",
       "churn                                                      Yes   \n",
       "internet_service_type                              Fiber optic   \n",
       "contract_type                                   Month-to-month   \n",
       "payment_type                           Credit card (automatic)   \n",
       "gender_encoded                                               0   \n",
       "partner_encoded                                              0   \n",
       "dependents_encoded                                           0   \n",
       "phone_service_encoded                                        1   \n",
       "paperless_billing_encoded                                    0   \n",
       "churn_encoded                                                1   \n",
       "multiple_lines_No phone service                              0   \n",
       "multiple_lines_Yes                                           0   \n",
       "online_security_No internet service                          0   \n",
       "online_security_Yes                                          0   \n",
       "online_backup_No internet service                            0   \n",
       "online_backup_Yes                                            0   \n",
       "device_protection_No internet service                        0   \n",
       "device_protection_Yes                                        0   \n",
       "tech_support_No internet service                             0   \n",
       "tech_support_Yes                                             0   \n",
       "streaming_tv_No internet service                             0   \n",
       "streaming_tv_Yes                                             1   \n",
       "streaming_movies_No internet service                         0   \n",
       "streaming_movies_Yes                                         1   \n",
       "contract_type_One year                                       0   \n",
       "contract_type_Two year                                       0   \n",
       "internet_service_type_Fiber optic                            1   \n",
       "internet_service_type_None                                   0   \n",
       "payment_type_Credit card (automatic)                         1   \n",
       "payment_type_Electronic check                                0   \n",
       "payment_type_Mailed check                                    0   \n",
       "\n",
       "                                                            2923  \\\n",
       "customer_id                                           5099-BAILX   \n",
       "gender                                                      Male   \n",
       "senior_citizen                                                 1   \n",
       "partner                                                      Yes   \n",
       "dependents                                                   Yes   \n",
       "tenure                                                        43   \n",
       "phone_service                                                Yes   \n",
       "multiple_lines                                               Yes   \n",
       "online_security                                               No   \n",
       "online_backup                                                Yes   \n",
       "device_protection                                            Yes   \n",
       "tech_support                                                 Yes   \n",
       "streaming_tv                                                 Yes   \n",
       "streaming_movies                                             Yes   \n",
       "paperless_billing                                            Yes   \n",
       "monthly_charges                                           110.75   \n",
       "total_charges                                             4687.9   \n",
       "churn                                                        Yes   \n",
       "internet_service_type                                Fiber optic   \n",
       "contract_type                                     Month-to-month   \n",
       "payment_type                           Bank transfer (automatic)   \n",
       "gender_encoded                                                 0   \n",
       "partner_encoded                                                1   \n",
       "dependents_encoded                                             1   \n",
       "phone_service_encoded                                          1   \n",
       "paperless_billing_encoded                                      1   \n",
       "churn_encoded                                                  1   \n",
       "multiple_lines_No phone service                                0   \n",
       "multiple_lines_Yes                                             1   \n",
       "online_security_No internet service                            0   \n",
       "online_security_Yes                                            0   \n",
       "online_backup_No internet service                              0   \n",
       "online_backup_Yes                                              1   \n",
       "device_protection_No internet service                          0   \n",
       "device_protection_Yes                                          1   \n",
       "tech_support_No internet service                               0   \n",
       "tech_support_Yes                                               1   \n",
       "streaming_tv_No internet service                               0   \n",
       "streaming_tv_Yes                                               1   \n",
       "streaming_movies_No internet service                           0   \n",
       "streaming_movies_Yes                                           1   \n",
       "contract_type_One year                                         0   \n",
       "contract_type_Two year                                         0   \n",
       "internet_service_type_Fiber optic                              1   \n",
       "internet_service_type_None                                     0   \n",
       "payment_type_Credit card (automatic)                           0   \n",
       "payment_type_Electronic check                                  0   \n",
       "payment_type_Mailed check                                      0   \n",
       "\n",
       "                                                   4162                 4261  \n",
       "customer_id                                  8445-DNBAE           8763-KIAFH  \n",
       "gender                                             Male               Female  \n",
       "senior_citizen                                        0                    0  \n",
       "partner                                              No                  Yes  \n",
       "dependents                                          Yes                  Yes  \n",
       "tenure                                                1                   27  \n",
       "phone_service                                       Yes                  Yes  \n",
       "multiple_lines                                      Yes                   No  \n",
       "online_security                                      No  No internet service  \n",
       "online_backup                                        No  No internet service  \n",
       "device_protection                                    No  No internet service  \n",
       "tech_support                                         No  No internet service  \n",
       "streaming_tv                                         No  No internet service  \n",
       "streaming_movies                                     No  No internet service  \n",
       "paperless_billing                                   Yes                  Yes  \n",
       "monthly_charges                                   50.05                20.55  \n",
       "total_charges                                     50.05                583.3  \n",
       "churn                                                No                   No  \n",
       "internet_service_type                               DSL                 None  \n",
       "contract_type                            Month-to-month             One year  \n",
       "payment_type                           Electronic check         Mailed check  \n",
       "gender_encoded                                        0                    1  \n",
       "partner_encoded                                       0                    1  \n",
       "dependents_encoded                                    1                    1  \n",
       "phone_service_encoded                                 1                    1  \n",
       "paperless_billing_encoded                             1                    1  \n",
       "churn_encoded                                         0                    0  \n",
       "multiple_lines_No phone service                       0                    0  \n",
       "multiple_lines_Yes                                    1                    0  \n",
       "online_security_No internet service                   0                    1  \n",
       "online_security_Yes                                   0                    0  \n",
       "online_backup_No internet service                     0                    1  \n",
       "online_backup_Yes                                     0                    0  \n",
       "device_protection_No internet service                 0                    1  \n",
       "device_protection_Yes                                 0                    0  \n",
       "tech_support_No internet service                      0                    1  \n",
       "tech_support_Yes                                      0                    0  \n",
       "streaming_tv_No internet service                      0                    1  \n",
       "streaming_tv_Yes                                      0                    0  \n",
       "streaming_movies_No internet service                  0                    1  \n",
       "streaming_movies_Yes                                  0                    0  \n",
       "contract_type_One year                                0                    1  \n",
       "contract_type_Two year                                0                    0  \n",
       "internet_service_type_Fiber optic                     0                    0  \n",
       "internet_service_type_None                            0                    1  \n",
       "payment_type_Credit card (automatic)                  0                    0  \n",
       "payment_type_Electronic check                         1                    0  \n",
       "payment_type_Mailed check                             0                    1  "
      ]
     },
     "execution_count": 3,
     "metadata": {},
     "output_type": "execute_result"
    }
   ],
   "source": [
    "train.head().T"
   ]
  },
  {
   "cell_type": "code",
   "execution_count": 4,
   "id": "b8da4663-434e-4eb4-bc52-a000b04551c0",
   "metadata": {},
   "outputs": [
    {
     "name": "stdout",
     "output_type": "stream",
     "text": [
      "<class 'pandas.core.frame.DataFrame'>\n",
      "Int64Index: 3943 entries, 4841 to 2574\n",
      "Data columns (total 48 columns):\n",
      " #   Column                                 Non-Null Count  Dtype  \n",
      "---  ------                                 --------------  -----  \n",
      " 0   customer_id                            3943 non-null   object \n",
      " 1   gender                                 3943 non-null   object \n",
      " 2   senior_citizen                         3943 non-null   int64  \n",
      " 3   partner                                3943 non-null   object \n",
      " 4   dependents                             3943 non-null   object \n",
      " 5   tenure                                 3943 non-null   int64  \n",
      " 6   phone_service                          3943 non-null   object \n",
      " 7   multiple_lines                         3943 non-null   object \n",
      " 8   online_security                        3943 non-null   object \n",
      " 9   online_backup                          3943 non-null   object \n",
      " 10  device_protection                      3943 non-null   object \n",
      " 11  tech_support                           3943 non-null   object \n",
      " 12  streaming_tv                           3943 non-null   object \n",
      " 13  streaming_movies                       3943 non-null   object \n",
      " 14  paperless_billing                      3943 non-null   object \n",
      " 15  monthly_charges                        3943 non-null   float64\n",
      " 16  total_charges                          3943 non-null   float64\n",
      " 17  churn                                  3943 non-null   object \n",
      " 18  internet_service_type                  3943 non-null   object \n",
      " 19  contract_type                          3943 non-null   object \n",
      " 20  payment_type                           3943 non-null   object \n",
      " 21  gender_encoded                         3943 non-null   int64  \n",
      " 22  partner_encoded                        3943 non-null   int64  \n",
      " 23  dependents_encoded                     3943 non-null   int64  \n",
      " 24  phone_service_encoded                  3943 non-null   int64  \n",
      " 25  paperless_billing_encoded              3943 non-null   int64  \n",
      " 26  churn_encoded                          3943 non-null   int64  \n",
      " 27  multiple_lines_No phone service        3943 non-null   uint8  \n",
      " 28  multiple_lines_Yes                     3943 non-null   uint8  \n",
      " 29  online_security_No internet service    3943 non-null   uint8  \n",
      " 30  online_security_Yes                    3943 non-null   uint8  \n",
      " 31  online_backup_No internet service      3943 non-null   uint8  \n",
      " 32  online_backup_Yes                      3943 non-null   uint8  \n",
      " 33  device_protection_No internet service  3943 non-null   uint8  \n",
      " 34  device_protection_Yes                  3943 non-null   uint8  \n",
      " 35  tech_support_No internet service       3943 non-null   uint8  \n",
      " 36  tech_support_Yes                       3943 non-null   uint8  \n",
      " 37  streaming_tv_No internet service       3943 non-null   uint8  \n",
      " 38  streaming_tv_Yes                       3943 non-null   uint8  \n",
      " 39  streaming_movies_No internet service   3943 non-null   uint8  \n",
      " 40  streaming_movies_Yes                   3943 non-null   uint8  \n",
      " 41  contract_type_One year                 3943 non-null   uint8  \n",
      " 42  contract_type_Two year                 3943 non-null   uint8  \n",
      " 43  internet_service_type_Fiber optic      3943 non-null   uint8  \n",
      " 44  internet_service_type_None             3943 non-null   uint8  \n",
      " 45  payment_type_Credit card (automatic)   3943 non-null   uint8  \n",
      " 46  payment_type_Electronic check          3943 non-null   uint8  \n",
      " 47  payment_type_Mailed check              3943 non-null   uint8  \n",
      "dtypes: float64(2), int64(8), object(17), uint8(21)\n",
      "memory usage: 943.4+ KB\n"
     ]
    }
   ],
   "source": [
    "train.info()"
   ]
  },
  {
   "cell_type": "code",
   "execution_count": 5,
   "id": "48db1e40-fef6-4ea9-a27e-c22d335471fc",
   "metadata": {},
   "outputs": [
    {
     "data": {
      "text/plain": [
       "0    20.05\n",
       "1    20.15\n",
       "Name: monthly_charges, dtype: float64"
      ]
     },
     "execution_count": 5,
     "metadata": {},
     "output_type": "execute_result"
    }
   ],
   "source": [
    "# finally on to some bivariate exploration\n",
    "\n",
    "train.monthly_charges.mode()\n"
   ]
  },
  {
   "cell_type": "code",
   "execution_count": 6,
   "id": "228f4d10-861c-490c-9108-5beadcdec1c3",
   "metadata": {},
   "outputs": [
    {
     "data": {
      "text/plain": [
       "70.3"
      ]
     },
     "execution_count": 6,
     "metadata": {},
     "output_type": "execute_result"
    }
   ],
   "source": [
    "train.monthly_charges.median()"
   ]
  },
  {
   "cell_type": "code",
   "execution_count": 7,
   "id": "9fb67582-f583-40d8-91f4-319a44baca85",
   "metadata": {},
   "outputs": [
    {
     "data": {
      "text/plain": [
       "64.38212021303565"
      ]
     },
     "execution_count": 7,
     "metadata": {},
     "output_type": "execute_result"
    }
   ],
   "source": [
    "train.monthly_charges.mean()"
   ]
  },
  {
   "cell_type": "code",
   "execution_count": 8,
   "id": "c0494e40-2940-4774-89c1-3095049c31fe",
   "metadata": {},
   "outputs": [
    {
     "data": {
      "text/plain": [
       "20.15    30\n",
       "20.05    30\n",
       "19.90    27\n",
       "19.85    27\n",
       "20.00    25\n",
       "         ..\n",
       "21.15     1\n",
       "29.70     1\n",
       "18.75     1\n",
       "22.95     1\n",
       "29.45     1\n",
       "Name: monthly_charges, Length: 132, dtype: int64"
      ]
     },
     "execution_count": 8,
     "metadata": {},
     "output_type": "execute_result"
    }
   ],
   "source": [
    "train[train.monthly_charges < 30]['monthly_charges'].value_counts()"
   ]
  },
  {
   "cell_type": "code",
   "execution_count": 9,
   "id": "1a30b697-f810-4a80-a90d-40a1b47361c0",
   "metadata": {},
   "outputs": [
    {
     "data": {
      "text/plain": [
       "938"
      ]
     },
     "execution_count": 9,
     "metadata": {},
     "output_type": "execute_result"
    }
   ],
   "source": [
    "train[train.monthly_charges < 30]['monthly_charges'].value_counts().sum()"
   ]
  },
  {
   "cell_type": "code",
   "execution_count": 10,
   "id": "f5598c7b-5f7d-4108-9d45-c6b23130c849",
   "metadata": {},
   "outputs": [
    {
     "data": {
      "text/plain": [
       "(3943, 48)"
      ]
     },
     "execution_count": 10,
     "metadata": {},
     "output_type": "execute_result"
    }
   ],
   "source": [
    "train.shape"
   ]
  },
  {
   "cell_type": "code",
   "execution_count": 11,
   "id": "9f32cefa-e5e2-47b2-b416-7d510e370e84",
   "metadata": {},
   "outputs": [
    {
     "data": {
      "text/plain": [
       "count    3943.000000\n",
       "mean       64.382120\n",
       "std        30.032871\n",
       "min        18.250000\n",
       "25%        35.300000\n",
       "50%        70.300000\n",
       "75%        89.650000\n",
       "max       118.200000\n",
       "Name: monthly_charges, dtype: float64"
      ]
     },
     "execution_count": 11,
     "metadata": {},
     "output_type": "execute_result"
    }
   ],
   "source": [
    "train.monthly_charges.describe()"
   ]
  },
  {
   "cell_type": "code",
   "execution_count": 12,
   "id": "cfb0d345-1e62-422c-8f21-945bf5e8dd8c",
   "metadata": {},
   "outputs": [
    {
     "data": {
      "text/plain": [
       "Two year          379\n",
       "Month-to-month    343\n",
       "One year          216\n",
       "Name: contract_type, dtype: int64"
      ]
     },
     "execution_count": 12,
     "metadata": {},
     "output_type": "execute_result"
    }
   ],
   "source": [
    "# the bottom 25% pays $35.30 or less per month. What plan are they on?\n",
    "train[train.monthly_charges < 30]['contract_type'].value_counts()"
   ]
  },
  {
   "cell_type": "code",
   "execution_count": 13,
   "id": "35f743f9-d937-4553-b535-32dbffbab587",
   "metadata": {},
   "outputs": [
    {
     "data": {
      "text/plain": [
       "Month-to-month    261\n",
       "Two year          238\n",
       "One year          169\n",
       "Name: contract_type, dtype: int64"
      ]
     },
     "execution_count": 13,
     "metadata": {},
     "output_type": "execute_result"
    }
   ],
   "source": [
    "# interestingly, customers in the bottom quartile of monthly\n",
    "# charges are pretty evenly distributed across contract types.\n",
    "# what if we lower to less than $22/mo?\n",
    "train[train.monthly_charges < 22]['contract_type'].value_counts()"
   ]
  },
  {
   "cell_type": "code",
   "execution_count": 14,
   "id": "7b15f58a-8d82-40f4-b999-69fd5b7bd0f1",
   "metadata": {},
   "outputs": [
    {
     "data": {
      "text/plain": [
       "count    3943.000000\n",
       "mean       32.248542\n",
       "std        24.427210\n",
       "min         0.000000\n",
       "25%         9.000000\n",
       "50%        28.000000\n",
       "75%        55.000000\n",
       "max        72.000000\n",
       "Name: tenure, dtype: float64"
      ]
     },
     "execution_count": 14,
     "metadata": {},
     "output_type": "execute_result"
    }
   ],
   "source": [
    "# month-to-month gains share, but still somewhat evenly distributed.\n",
    "# lets look at the bottom 25% of tenure v. plan-type.\n",
    "train.tenure.describe()"
   ]
  },
  {
   "cell_type": "code",
   "execution_count": 15,
   "id": "fe6ddc3d-5b49-463e-bfed-0a28b63fc689",
   "metadata": {},
   "outputs": [
    {
     "data": {
      "text/plain": [
       "Month-to-month    949\n",
       "One year           40\n",
       "Two year           29\n",
       "Name: contract_type, dtype: int64"
      ]
     },
     "execution_count": 15,
     "metadata": {},
     "output_type": "execute_result"
    }
   ],
   "source": [
    "# 9 months or less for bottom quartile\n",
    "train[(train['tenure'] <= 9)]['contract_type'].value_counts()"
   ]
  },
  {
   "cell_type": "code",
   "execution_count": 16,
   "id": "3ddb8f14-a192-41c6-b8b1-904052181459",
   "metadata": {},
   "outputs": [
    {
     "data": {
      "text/plain": [
       "Two year          643\n",
       "One year          244\n",
       "Month-to-month    114\n",
       "Name: contract_type, dtype: int64"
      ]
     },
     "execution_count": 16,
     "metadata": {},
     "output_type": "execute_result"
    }
   ],
   "source": [
    "# this makes sense as long-term contracts would have to be broken.\n",
    "# what about at long end of the tenure spectrum?\n",
    "train[(train['tenure'] >= 55)]['contract_type'].value_counts()"
   ]
  },
  {
   "cell_type": "code",
   "execution_count": 17,
   "id": "40c639f7-7920-4bee-8ea6-51569f23dc74",
   "metadata": {},
   "outputs": [
    {
     "data": {
      "text/plain": [
       "Two year          0.642358\n",
       "One year          0.243756\n",
       "Month-to-month    0.113886\n",
       "Name: contract_type, dtype: float64"
      ]
     },
     "execution_count": 17,
     "metadata": {},
     "output_type": "execute_result"
    }
   ],
   "source": [
    "train[(train['tenure'] >= 55)]['contract_type'].value_counts(normalize=True)"
   ]
  },
  {
   "cell_type": "code",
   "execution_count": 18,
   "id": "1dbcba68-becf-4538-9cb7-3d77d9908abb",
   "metadata": {},
   "outputs": [],
   "source": [
    "# here two-year contracts are by far the majority"
   ]
  },
  {
   "cell_type": "code",
   "execution_count": 19,
   "id": "68edb51b-c210-4822-9c58-2a438ca0433f",
   "metadata": {},
   "outputs": [
    {
     "data": {
      "text/plain": [
       "Month-to-month    508\n",
       "Two year          256\n",
       "One year          226\n",
       "Name: contract_type, dtype: int64"
      ]
     },
     "execution_count": 19,
     "metadata": {},
     "output_type": "execute_result"
    }
   ],
   "source": [
    "# what about in the upper 25% of monthly cost?\n",
    "train[train.monthly_charges >= 89.65]['contract_type'].value_counts()"
   ]
  },
  {
   "cell_type": "code",
   "execution_count": 20,
   "id": "37f32f0c-8a56-41d3-ab70-2067709340f4",
   "metadata": {},
   "outputs": [
    {
     "data": {
      "text/plain": [
       "Month-to-month    0.513131\n",
       "Two year          0.258586\n",
       "One year          0.228283\n",
       "Name: contract_type, dtype: float64"
      ]
     },
     "execution_count": 20,
     "metadata": {},
     "output_type": "execute_result"
    }
   ],
   "source": [
    "train[train.monthly_charges >= 89.65]['contract_type'].value_counts(normalize=True)"
   ]
  },
  {
   "cell_type": "code",
   "execution_count": 21,
   "id": "19f31d24-9f64-411a-bee3-eb03ad9988d3",
   "metadata": {},
   "outputs": [
    {
     "data": {
      "text/plain": [
       "Month-to-month    0.549328\n",
       "Two year          0.247781\n",
       "One year          0.202891\n",
       "Name: contract_type, dtype: float64"
      ]
     },
     "execution_count": 21,
     "metadata": {},
     "output_type": "execute_result"
    }
   ],
   "source": [
    "# refresh memory on distribution of contract type:\n",
    "train.contract_type.value_counts(normalize=True)"
   ]
  },
  {
   "cell_type": "code",
   "execution_count": 22,
   "id": "502c5e8b-a4d7-44ae-8616-388ac77f2896",
   "metadata": {},
   "outputs": [],
   "source": [
    "# In the upper quartile of monthly charges the distribution of\n",
    "# contract types is very close to the distribution in the quartile."
   ]
  },
  {
   "cell_type": "code",
   "execution_count": 23,
   "id": "3c770968-6ca1-49ee-bce4-baee8f3f2090",
   "metadata": {},
   "outputs": [],
   "source": [
    "# now lets check do bivariates of all categorical features v churn\n",
    "\n",
    "cat_cols, num_cols = [], []\n",
    "for col in train.columns:\n",
    "    if train[col].dtype == 'O':\n",
    "        cat_cols.append(col)\n",
    "    else:\n",
    "        if train[col].nunique() < 10:\n",
    "            cat_cols.append(col)\n",
    "        else:\n",
    "            num_cols.append(col)"
   ]
  },
  {
   "cell_type": "code",
   "execution_count": 24,
   "id": "7ddaf019-628e-4453-9545-4d611e73f880",
   "metadata": {},
   "outputs": [
    {
     "data": {
      "text/plain": [
       "['customer_id',\n",
       " 'gender',\n",
       " 'senior_citizen',\n",
       " 'partner',\n",
       " 'dependents',\n",
       " 'phone_service',\n",
       " 'multiple_lines',\n",
       " 'online_security',\n",
       " 'online_backup',\n",
       " 'device_protection',\n",
       " 'tech_support',\n",
       " 'streaming_tv',\n",
       " 'streaming_movies',\n",
       " 'paperless_billing',\n",
       " 'churn',\n",
       " 'internet_service_type',\n",
       " 'contract_type',\n",
       " 'payment_type',\n",
       " 'gender_encoded',\n",
       " 'partner_encoded',\n",
       " 'dependents_encoded',\n",
       " 'phone_service_encoded',\n",
       " 'paperless_billing_encoded',\n",
       " 'churn_encoded',\n",
       " 'multiple_lines_No phone service',\n",
       " 'multiple_lines_Yes',\n",
       " 'online_security_No internet service',\n",
       " 'online_security_Yes',\n",
       " 'online_backup_No internet service',\n",
       " 'online_backup_Yes',\n",
       " 'device_protection_No internet service',\n",
       " 'device_protection_Yes',\n",
       " 'tech_support_No internet service',\n",
       " 'tech_support_Yes',\n",
       " 'streaming_tv_No internet service',\n",
       " 'streaming_tv_Yes',\n",
       " 'streaming_movies_No internet service',\n",
       " 'streaming_movies_Yes',\n",
       " 'contract_type_One year',\n",
       " 'contract_type_Two year',\n",
       " 'internet_service_type_Fiber optic',\n",
       " 'internet_service_type_None',\n",
       " 'payment_type_Credit card (automatic)',\n",
       " 'payment_type_Electronic check',\n",
       " 'payment_type_Mailed check']"
      ]
     },
     "execution_count": 24,
     "metadata": {},
     "output_type": "execute_result"
    }
   ],
   "source": [
    "cat_cols"
   ]
  },
  {
   "cell_type": "code",
   "execution_count": 25,
   "id": "4d7f7282-cb89-45e7-b364-1ba144f678af",
   "metadata": {},
   "outputs": [],
   "source": [
    "# this now captures all of the encoded columns so removing them here"
   ]
  },
  {
   "cell_type": "code",
   "execution_count": 26,
   "id": "afbd5b0d-0c83-4580-8eb7-6e9924e56d57",
   "metadata": {},
   "outputs": [],
   "source": [
    "cat_cols = ['gender',\n",
    " 'senior_citizen',\n",
    " 'partner',\n",
    " 'dependents',\n",
    " 'phone_service',\n",
    " 'multiple_lines',\n",
    " 'online_security',\n",
    " 'online_backup',\n",
    " 'device_protection',\n",
    " 'tech_support',\n",
    " 'streaming_tv',\n",
    " 'streaming_movies',\n",
    " 'paperless_billing',\n",
    " 'internet_service_type',\n",
    " 'contract_type',\n",
    " 'payment_type']"
   ]
  },
  {
   "cell_type": "code",
   "execution_count": 27,
   "id": "8dde45b1-852a-44b0-a264-9e733873b197",
   "metadata": {},
   "outputs": [
    {
     "data": {
      "text/plain": [
       "['tenure', 'monthly_charges', 'total_charges']"
      ]
     },
     "execution_count": 27,
     "metadata": {},
     "output_type": "execute_result"
    }
   ],
   "source": [
    "num_cols"
   ]
  },
  {
   "cell_type": "code",
   "execution_count": 28,
   "id": "619e676a-f751-4d81-bee6-874e9db320c0",
   "metadata": {
    "scrolled": true,
    "tags": []
   },
   "outputs": [
    {
     "data": {
      "image/png": "[encoded data removed]",
      "text/plain": [
       "<Figure size 640x480 with 1 Axes>"
      ]
     },
     "metadata": {},
     "output_type": "display_data"
    },
    {
     "data": {
      "image/png": "[encoded data removed]",
      "text/plain": [
       "<Figure size 640x480 with 1 Axes>"
      ]
     },
     "metadata": {},
     "output_type": "display_data"
    },
    {
     "data": {
      "image/png": "[encoded data removed]",
      "text/plain": [
       "<Figure size 640x480 with 1 Axes>"
      ]
     },
     "metadata": {},
     "output_type": "display_data"
    },
    {
     "data": {
      "image/png": "[encoded data removed]",
      "text/plain": [
       "<Figure size 640x480 with 1 Axes>"
      ]
     },
     "metadata": {},
     "output_type": "display_data"
    },
    {
     "data": {
      "image/png": "[encoded data removed]",
      "text/plain": [
       "<Figure size 640x480 with 1 Axes>"
      ]
     },
     "metadata": {},
     "output_type": "display_data"
    },
    {
     "data": {
      "image/png": "[encoded data removed]",
      "text/plain": [
       "<Figure size 640x480 with 1 Axes>"
      ]
     },
     "metadata": {},
     "output_type": "display_data"
    },
    {
     "data": {
      "image/png": "[encoded data removed]",
      "text/plain": [
       "<Figure size 640x480 with 1 Axes>"
      ]
     },
     "metadata": {},
     "output_type": "display_data"
    },
    {
     "data": {
      "image/png": "[encoded data removed]",
      "text/plain": [
       "<Figure size 640x480 with 1 Axes>"
      ]
     },
     "metadata": {},
     "output_type": "display_data"
    },
    {
     "data": {
      "image/png": "[encoded data removed]",
      "text/plain": [
       "<Figure size 640x480 with 1 Axes>"
      ]
     },
     "metadata": {},
     "output_type": "display_data"
    },
    {
     "data": {
      "image/png": "[encoded data removed]",
      "text/plain": [
       "<Figure size 640x480 with 1 Axes>"
      ]
     },
     "metadata": {},
     "output_type": "display_data"
    },
    {
     "data": {
      "image/png": "[encoded data removed]",
      "text/plain": [
       "<Figure size 640x480 with 1 Axes>"
      ]
     },
     "metadata": {},
     "output_type": "display_data"
    },
    {
     "data": {
      "image/png": "[encoded data removed]",
      "text/plain": [
       "<Figure size 640x480 with 1 Axes>"
      ]
     },
     "metadata": {},
     "output_type": "display_data"
    },
    {
     "data": {
      "image/png": "[encoded data removed]",
      "text/plain": [
       "<Figure size 640x480 with 1 Axes>"
      ]
     },
     "metadata": {},
     "output_type": "display_data"
    },
    {
     "data": {
      "image/png": "[encoded data removed]",
      "text/plain": [
       "<Figure size 640x480 with 1 Axes>"
      ]
     },
     "metadata": {},
     "output_type": "display_data"
    },
    {
     "data": {
      "image/png": "[encoded data removed]",
      "text/plain": [
       "<Figure size 640x480 with 1 Axes>"
      ]
     },
     "metadata": {},
     "output_type": "display_data"
    },
    {
     "data": {
      "image/png": "[encoded data removed]",
      "text/plain": [
       "<Figure size 640x480 with 1 Axes>"
      ]
     },
     "metadata": {},
     "output_type": "display_data"
    }
   ],
   "source": [
    "for col in cat_cols:\n",
    "    if col != 'churn_encoded':\n",
    "        sns.barplot(data=train,\n",
    "                    x=col,\n",
    "                    y = 'churn_encoded',\n",
    "                   ci=False)\n",
    "        plt.title(f'Customer churn v. {col}')\n",
    "        plt.show()"
   ]
  },
  {
   "cell_type": "markdown",
   "id": "91892e5e-b2bf-4c39-aadf-5f32b3080ea1",
   "metadata": {},
   "source": [
    "#### biggest takeaways from the bivariate categoricals:\n",
    "1. Why are seniors leaving at such a high rate?\n",
    "2.  Why are people without dependents or partners (solo) leaving at high rates?\n",
    "3. Why are people without hard_to_leave services (security and backup) leaving at such a high rate?\n",
    "4. Why are people with paperless billing, paying by electronic check and without premium tech support leaving at high rates? (call these pain_points)\n"
   ]
  },
  {
   "cell_type": "markdown",
   "id": "236f517c-03d1-4a21-8209-5f9ded749847",
   "metadata": {},
   "source": [
    "## Hypotheses Testing:"
   ]
  },
  {
   "cell_type": "markdown",
   "id": "3548e7e1-8405-49eb-9d04-509f44241a68",
   "metadata": {},
   "source": [
    "#### 1. **Seniors:** Are seniors leaving at a higher rate than expected for their proportion in the population?"
   ]
  },
  {
   "cell_type": "markdown",
   "id": "9328a139-f404-4ebf-bb04-887ef2848484",
   "metadata": {},
   "source": [
    "> $H_0$: There is no relationship between seniors and churn.\n",
    "\n",
    "> $H_a$: There is a relationship between seniors and churn."
   ]
  },
  {
   "cell_type": "code",
   "execution_count": 29,
   "id": "7f7f0d49-5d46-4b44-a27c-54517d8ea939",
   "metadata": {},
   "outputs": [
    {
     "data": {
      "text/html": [
       "<div>\n",
       "<style scoped>\n",
       "    .dataframe tbody tr th:only-of-type {\n",
       "        vertical-align: middle;\n",
       "    }\n",
       "\n",
       "    .dataframe tbody tr th {\n",
       "        vertical-align: top;\n",
       "    }\n",
       "\n",
       "    .dataframe thead th {\n",
       "        text-align: right;\n",
       "    }\n",
       "</style>\n",
       "<table border=\"1\" class=\"dataframe\">\n",
       "  <thead>\n",
       "    <tr style=\"text-align: right;\">\n",
       "      <th>churn_encoded</th>\n",
       "      <th>0</th>\n",
       "      <th>1</th>\n",
       "    </tr>\n",
       "    <tr>\n",
       "      <th>senior_citizen</th>\n",
       "      <th></th>\n",
       "      <th></th>\n",
       "    </tr>\n",
       "  </thead>\n",
       "  <tbody>\n",
       "    <tr>\n",
       "      <th>0</th>\n",
       "      <td>2516</td>\n",
       "      <td>796</td>\n",
       "    </tr>\n",
       "    <tr>\n",
       "      <th>1</th>\n",
       "      <td>381</td>\n",
       "      <td>250</td>\n",
       "    </tr>\n",
       "  </tbody>\n",
       "</table>\n",
       "</div>"
      ],
      "text/plain": [
       "churn_encoded      0    1\n",
       "senior_citizen           \n",
       "0               2516  796\n",
       "1                381  250"
      ]
     },
     "execution_count": 29,
     "metadata": {},
     "output_type": "execute_result"
    }
   ],
   "source": [
    "α = 0.05\n",
    "\n",
    "observed_s = pd.crosstab(train.senior_citizen, train.churn_encoded)\n",
    "observed_s"
   ]
  },
  {
   "cell_type": "code",
   "execution_count": 30,
   "id": "471bf650-6b86-4cc6-a74c-a73314ce592d",
   "metadata": {},
   "outputs": [
    {
     "name": "stdout",
     "output_type": "stream",
     "text": [
      "chi^2 = 65.26091692376309, p = 6.560972190703619e-16, degrees of freedom = 1, expected values = [[2433.39183363  878.60816637]\n",
      " [ 463.60816637  167.39183363]]\n"
     ]
    }
   ],
   "source": [
    "chi2, p, degf, expected = stats.chi2_contingency(observed_s)\n",
    "print(f'chi^2 = {chi2}, p = {p}, degrees of freedom = {degf}, expected values = {expected}')\n"
   ]
  },
  {
   "cell_type": "code",
   "execution_count": 31,
   "id": "d686a6a6-fe56-48e3-abcb-fb9e1bc3521d",
   "metadata": {},
   "outputs": [
    {
     "data": {
      "text/plain": [
       "True"
      ]
     },
     "execution_count": 31,
     "metadata": {},
     "output_type": "execute_result"
    }
   ],
   "source": [
    "p < α"
   ]
  },
  {
   "cell_type": "markdown",
   "id": "708c53e8-5d51-45cf-80bc-9c1feef1a6b9",
   "metadata": {},
   "source": [
    "##### We must reject the $H_0$ that there is no relationship between seniors and churn"
   ]
  },
  {
   "cell_type": "code",
   "execution_count": null,
   "id": "4a3c6e9a-6e6b-4923-90b2-17a9c555683b",
   "metadata": {},
   "outputs": [],
   "source": []
  },
  {
   "cell_type": "markdown",
   "id": "44f6bf14-5816-456b-b431-d38948929859",
   "metadata": {},
   "source": [
    "#### 2. **Solo:** Are solo customers leaving at a higher rate than expected for their proportion in the population?"
   ]
  },
  {
   "cell_type": "markdown",
   "id": "1d2decd9-559b-40ce-bf41-3b6fd03f691d",
   "metadata": {},
   "source": [
    "> $H_0$: There is no relationship between solo customers and churn.\n",
    "\n",
    "> $H_a$: There is a relationship between solo customers and churn."
   ]
  },
  {
   "cell_type": "code",
   "execution_count": 32,
   "id": "34935c08-cdc2-4377-85b6-075fe979c8eb",
   "metadata": {},
   "outputs": [
    {
     "data": {
      "text/plain": [
       "No     2056\n",
       "Yes    1887\n",
       "Name: partner, dtype: int64"
      ]
     },
     "execution_count": 32,
     "metadata": {},
     "output_type": "execute_result"
    }
   ],
   "source": [
    "train.partner.value_counts()"
   ]
  },
  {
   "cell_type": "code",
   "execution_count": 33,
   "id": "e3fdf2f6-10ba-45da-9aa6-6585118de27b",
   "metadata": {},
   "outputs": [
    {
     "data": {
      "text/plain": [
       "No     2747\n",
       "Yes    1196\n",
       "Name: dependents, dtype: int64"
      ]
     },
     "execution_count": 33,
     "metadata": {},
     "output_type": "execute_result"
    }
   ],
   "source": [
    "train.dependents.value_counts()"
   ]
  },
  {
   "cell_type": "code",
   "execution_count": 34,
   "id": "486824a4-329b-4d9e-a249-f729aa0ea2f7",
   "metadata": {},
   "outputs": [
    {
     "data": {
      "text/html": [
       "<div>\n",
       "<style scoped>\n",
       "    .dataframe tbody tr th:only-of-type {\n",
       "        vertical-align: middle;\n",
       "    }\n",
       "\n",
       "    .dataframe tbody tr th {\n",
       "        vertical-align: top;\n",
       "    }\n",
       "\n",
       "    .dataframe thead th {\n",
       "        text-align: right;\n",
       "    }\n",
       "</style>\n",
       "<table border=\"1\" class=\"dataframe\">\n",
       "  <thead>\n",
       "    <tr style=\"text-align: right;\">\n",
       "      <th>churn_encoded</th>\n",
       "      <th>0</th>\n",
       "      <th>1</th>\n",
       "    </tr>\n",
       "    <tr>\n",
       "      <th>solo_cust</th>\n",
       "      <th></th>\n",
       "      <th></th>\n",
       "    </tr>\n",
       "  </thead>\n",
       "  <tbody>\n",
       "    <tr>\n",
       "      <th>False</th>\n",
       "      <td>1690</td>\n",
       "      <td>405</td>\n",
       "    </tr>\n",
       "    <tr>\n",
       "      <th>True</th>\n",
       "      <td>1207</td>\n",
       "      <td>641</td>\n",
       "    </tr>\n",
       "  </tbody>\n",
       "</table>\n",
       "</div>"
      ],
      "text/plain": [
       "churn_encoded     0    1\n",
       "solo_cust               \n",
       "False          1690  405\n",
       "True           1207  641"
      ]
     },
     "execution_count": 34,
     "metadata": {},
     "output_type": "execute_result"
    }
   ],
   "source": [
    "train['solo_cust'] = (train.partner == 'No') & (train.dependents == 'No')\n",
    "observed_solo = pd.crosstab(train.solo_cust, train.churn_encoded)\n",
    "observed_solo"
   ]
  },
  {
   "cell_type": "code",
   "execution_count": 35,
   "id": "d434d4d8-1000-4ebe-94f4-caea61cdcc3c",
   "metadata": {},
   "outputs": [
    {
     "name": "stdout",
     "output_type": "stream",
     "text": [
      "chi^2 = 117.98128544103221, p = 1.750317195477364e-27, degrees of freedom = 1, expected values = [[1539.23788993  555.76211007]\n",
      " [1357.76211007  490.23788993]]\n"
     ]
    }
   ],
   "source": [
    "chi2_solo, p_solo, degf_solo, expected_solo = stats.chi2_contingency(observed_solo)\n",
    "print(f'chi^2 = {chi2_solo}, p = {p_solo}, degrees of freedom = {degf_solo}, expected values = {expected_solo}')\n"
   ]
  },
  {
   "cell_type": "code",
   "execution_count": 36,
   "id": "626677f3-1944-4854-bb32-3210ca4c285f",
   "metadata": {},
   "outputs": [
    {
     "data": {
      "text/plain": [
       "True"
      ]
     },
     "execution_count": 36,
     "metadata": {},
     "output_type": "execute_result"
    }
   ],
   "source": [
    "p_solo < α"
   ]
  },
  {
   "cell_type": "markdown",
   "id": "c278c776-223b-43b0-8dd8-2bae2e75f4ad",
   "metadata": {},
   "source": [
    "##### We must reject the $H_0$ that there is no relationship between solo customers and churn"
   ]
  },
  {
   "cell_type": "markdown",
   "id": "b6e480d9-3355-45af-8e8d-1216a808888d",
   "metadata": {},
   "source": [
    "#### 3. **Cost-to-Switch:** Are customers without high cost-to-switch services leaving at a higher rate than expected for their proportion in the population?\n",
    "- Cost-to-Switch Services = Online Security and Online Backup"
   ]
  },
  {
   "cell_type": "markdown",
   "id": "6707b511-8b8c-43c8-a722-0f6626692679",
   "metadata": {},
   "source": [
    "$H_0$: There is no relationship between customers without cost-to-switch services and churn.\n",
    "\n",
    "$H_a$: There is a relationship between customers without cost-to-switch services and churn."
   ]
  },
  {
   "cell_type": "code",
   "execution_count": 37,
   "id": "e9d27a37-5e99-4884-a771-b6fbe252765c",
   "metadata": {},
   "outputs": [
    {
     "data": {
      "text/plain": [
       "No                     1970\n",
       "Yes                    1096\n",
       "No internet service     877\n",
       "Name: online_security, dtype: int64"
      ]
     },
     "execution_count": 37,
     "metadata": {},
     "output_type": "execute_result"
    }
   ],
   "source": [
    "train.online_security.value_counts()"
   ]
  },
  {
   "cell_type": "code",
   "execution_count": 38,
   "id": "36e44584-7ce0-4262-a53e-112aae39ee8f",
   "metadata": {},
   "outputs": [
    {
     "data": {
      "text/plain": [
       "No                     1736\n",
       "Yes                    1330\n",
       "No internet service     877\n",
       "Name: online_backup, dtype: int64"
      ]
     },
     "execution_count": 38,
     "metadata": {},
     "output_type": "execute_result"
    }
   ],
   "source": [
    "train.online_backup.value_counts()"
   ]
  },
  {
   "cell_type": "code",
   "execution_count": 39,
   "id": "9b162d0d-3c7b-47e6-a7e4-20e044303dcf",
   "metadata": {},
   "outputs": [
    {
     "data": {
      "text/html": [
       "<div>\n",
       "<style scoped>\n",
       "    .dataframe tbody tr th:only-of-type {\n",
       "        vertical-align: middle;\n",
       "    }\n",
       "\n",
       "    .dataframe tbody tr th {\n",
       "        vertical-align: top;\n",
       "    }\n",
       "\n",
       "    .dataframe thead th {\n",
       "        text-align: right;\n",
       "    }\n",
       "</style>\n",
       "<table border=\"1\" class=\"dataframe\">\n",
       "  <thead>\n",
       "    <tr style=\"text-align: right;\">\n",
       "      <th>churn_encoded</th>\n",
       "      <th>0</th>\n",
       "      <th>1</th>\n",
       "    </tr>\n",
       "    <tr>\n",
       "      <th>no_cost_to_switch</th>\n",
       "      <th></th>\n",
       "      <th></th>\n",
       "    </tr>\n",
       "  </thead>\n",
       "  <tbody>\n",
       "    <tr>\n",
       "      <th>False</th>\n",
       "      <td>2255</td>\n",
       "      <td>459</td>\n",
       "    </tr>\n",
       "    <tr>\n",
       "      <th>True</th>\n",
       "      <td>642</td>\n",
       "      <td>587</td>\n",
       "    </tr>\n",
       "  </tbody>\n",
       "</table>\n",
       "</div>"
      ],
      "text/plain": [
       "churn_encoded         0    1\n",
       "no_cost_to_switch           \n",
       "False              2255  459\n",
       "True                642  587"
      ]
     },
     "execution_count": 39,
     "metadata": {},
     "output_type": "execute_result"
    }
   ],
   "source": [
    "train['no_cost_to_switch'] = (\n",
    "    train.online_security == 'No') & (train.online_backup == 'No')\n",
    "observed_no_cost = pd.crosstab(train.no_cost_to_switch, train.churn_encoded)\n",
    "observed_no_cost"
   ]
  },
  {
   "cell_type": "code",
   "execution_count": 40,
   "id": "0be93a49-05e6-4ae2-b0f6-6dc86f620099",
   "metadata": {},
   "outputs": [
    {
     "name": "stdout",
     "output_type": "stream",
     "text": [
      "chi^2 = 411.4866805491122, p = 1.7398656332759217e-91, degrees of freedom = 1, expected values = [[1994.02941922  719.97058078]\n",
      " [ 902.97058078  326.02941922]]\n"
     ]
    }
   ],
   "source": [
    "chi2_no, p_no, degf_no, expected_no = stats.chi2_contingency(observed_no_cost)\n",
    "print(f'chi^2 = {chi2_no}, p = {p_no}, degrees of freedom = {degf_no}, expected values = {expected_no}')\n"
   ]
  },
  {
   "cell_type": "code",
   "execution_count": 41,
   "id": "63b22b8b-ad0a-429a-8c0e-74fa23fe04cc",
   "metadata": {},
   "outputs": [
    {
     "data": {
      "text/plain": [
       "True"
      ]
     },
     "execution_count": 41,
     "metadata": {},
     "output_type": "execute_result"
    }
   ],
   "source": [
    "p_no < α"
   ]
  },
  {
   "cell_type": "markdown",
   "id": "f452f481-3f23-4a41-94c3-f1a744c4c233",
   "metadata": {},
   "source": [
    "##### We must reject the $H_0$ that there is no relationship between customers without cost-to-switch services and churn."
   ]
  },
  {
   "cell_type": "markdown",
   "id": "6eea3daf-2247-4550-bd9a-192df5d0feaa",
   "metadata": {},
   "source": [
    "#### 4. **Pain Point:** Are customers with pain point services leaving at a higher rate than expected for their proportion in the population?\n",
    "- Pain Point Services = Non-premium Tech Support, paying by e-check and Paperless Billing"
   ]
  },
  {
   "cell_type": "markdown",
   "id": "1612ef81-4d9a-424d-8e97-c0a23c537fc6",
   "metadata": {},
   "source": [
    "$H_0$: There is no relationship between customers with pain-point services and churn.\n",
    "\n",
    "$H_a$: There is a relationship between customers with pain-point services and churn."
   ]
  },
  {
   "cell_type": "code",
   "execution_count": 42,
   "id": "8cc6a213-7828-4c22-86a9-a30c5c545a53",
   "metadata": {},
   "outputs": [
    {
     "data": {
      "text/plain": [
       "No                     1932\n",
       "Yes                    1134\n",
       "No internet service     877\n",
       "Name: tech_support, dtype: int64"
      ]
     },
     "execution_count": 42,
     "metadata": {},
     "output_type": "execute_result"
    }
   ],
   "source": [
    "train.tech_support.value_counts()"
   ]
  },
  {
   "cell_type": "code",
   "execution_count": 43,
   "id": "c49e1c5f-dd53-477c-ba2b-a5dd57f7ad7b",
   "metadata": {},
   "outputs": [
    {
     "data": {
      "text/plain": [
       "Yes    2340\n",
       "No     1603\n",
       "Name: paperless_billing, dtype: int64"
      ]
     },
     "execution_count": 43,
     "metadata": {},
     "output_type": "execute_result"
    }
   ],
   "source": [
    "train.paperless_billing.value_counts()"
   ]
  },
  {
   "cell_type": "code",
   "execution_count": 44,
   "id": "3c43b916-890e-4db7-a4a7-8fa2af638908",
   "metadata": {},
   "outputs": [
    {
     "data": {
      "text/plain": [
       "Electronic check             1315\n",
       "Bank transfer (automatic)     904\n",
       "Mailed check                  875\n",
       "Credit card (automatic)       849\n",
       "Name: payment_type, dtype: int64"
      ]
     },
     "execution_count": 44,
     "metadata": {},
     "output_type": "execute_result"
    }
   ],
   "source": [
    "train.payment_type.value_counts()"
   ]
  },
  {
   "cell_type": "code",
   "execution_count": 45,
   "id": "b7094a48-e4aa-46b7-ad5c-6906beb900c8",
   "metadata": {},
   "outputs": [
    {
     "data": {
      "text/html": [
       "<div>\n",
       "<style scoped>\n",
       "    .dataframe tbody tr th:only-of-type {\n",
       "        vertical-align: middle;\n",
       "    }\n",
       "\n",
       "    .dataframe tbody tr th {\n",
       "        vertical-align: top;\n",
       "    }\n",
       "\n",
       "    .dataframe thead th {\n",
       "        text-align: right;\n",
       "    }\n",
       "</style>\n",
       "<table border=\"1\" class=\"dataframe\">\n",
       "  <thead>\n",
       "    <tr style=\"text-align: right;\">\n",
       "      <th>churn_encoded</th>\n",
       "      <th>0</th>\n",
       "      <th>1</th>\n",
       "    </tr>\n",
       "    <tr>\n",
       "      <th>pain_points</th>\n",
       "      <th></th>\n",
       "      <th></th>\n",
       "    </tr>\n",
       "  </thead>\n",
       "  <tbody>\n",
       "    <tr>\n",
       "      <th>False</th>\n",
       "      <td>862</td>\n",
       "      <td>61</td>\n",
       "    </tr>\n",
       "    <tr>\n",
       "      <th>True</th>\n",
       "      <td>2035</td>\n",
       "      <td>985</td>\n",
       "    </tr>\n",
       "  </tbody>\n",
       "</table>\n",
       "</div>"
      ],
      "text/plain": [
       "churn_encoded     0    1\n",
       "pain_points             \n",
       "False           862   61\n",
       "True           2035  985"
      ]
     },
     "execution_count": 45,
     "metadata": {},
     "output_type": "execute_result"
    }
   ],
   "source": [
    "train['pain_points'] = ((train.tech_support == 'No') | \n",
    "                        (train.paperless_billing == 'Yes') |\n",
    "                        (train.payment_type == 'Electronic check'))\n",
    "observed_pain = pd.crosstab(train.pain_points, train.churn_encoded)\n",
    "observed_pain"
   ]
  },
  {
   "cell_type": "code",
   "execution_count": 46,
   "id": "28700e5f-622c-40ca-a86b-273abace0ad3",
   "metadata": {},
   "outputs": [
    {
     "name": "stdout",
     "output_type": "stream",
     "text": [
      "chi^2 = 243.98925273536645, p = 5.307616869625905e-55, degrees of freedom = 1, expected values = [[ 678.14633528  244.85366472]\n",
      " [2218.85366472  801.14633528]]\n"
     ]
    }
   ],
   "source": [
    "chi2_pain, p_pain, degf_pain, expected_pain = stats.chi2_contingency(observed_pain)\n",
    "print(f'chi^2 = {chi2_pain}, p = {p_pain}, degrees of freedom = {degf_pain}, expected values = {expected_pain}')\n"
   ]
  },
  {
   "cell_type": "code",
   "execution_count": 47,
   "id": "188449a8-c870-4a36-b72f-555fdaf36472",
   "metadata": {},
   "outputs": [
    {
     "data": {
      "text/plain": [
       "True"
      ]
     },
     "execution_count": 47,
     "metadata": {},
     "output_type": "execute_result"
    }
   ],
   "source": [
    "p_pain < α"
   ]
  },
  {
   "cell_type": "markdown",
   "id": "e85ce0ba-70d6-4309-87f5-15051b9bdb6d",
   "metadata": {},
   "source": [
    "##### We must reject the $H_0$ that there is no relationship between customers with pain-point services and churn."
   ]
  },
  {
   "cell_type": "code",
   "execution_count": 48,
   "id": "fdd7ef47-c7d0-49c9-8a5b-664a666c9054",
   "metadata": {},
   "outputs": [
    {
     "data": {
      "text/plain": [
       "0    0.73472\n",
       "1    0.26528\n",
       "Name: churn_encoded, dtype: float64"
      ]
     },
     "execution_count": 48,
     "metadata": {},
     "output_type": "execute_result"
    }
   ],
   "source": [
    "train.churn_encoded.value_counts(normalize=True)"
   ]
  },
  {
   "cell_type": "code",
   "execution_count": 49,
   "id": "c5c713d1-7675-448e-8631-5ef254356bb3",
   "metadata": {},
   "outputs": [
    {
     "data": {
      "image/png": "[encoded data removed]",
      "text/plain": [
       "<Figure size 640x480 with 1 Axes>"
      ]
     },
     "metadata": {},
     "output_type": "display_data"
    }
   ],
   "source": [
    "# now to look at the continuous variables\n",
    "# tenure, monthly_charges, total_charges\n",
    "sns.boxplot(data=train, y='tenure',x='churn_encoded')\n",
    "plt.show()\n"
   ]
  },
  {
   "cell_type": "code",
   "execution_count": 50,
   "id": "b0ee01cd-65d2-408e-8152-b87719ecdbcc",
   "metadata": {},
   "outputs": [
    {
     "data": {
      "image/png": "[encoded data removed]",
      "text/plain": [
       "<Figure size 640x480 with 1 Axes>"
      ]
     },
     "metadata": {},
     "output_type": "display_data"
    }
   ],
   "source": [
    "sns.boxplot(data=train, y='monthly_charges',x='churn_encoded')\n",
    "plt.show()"
   ]
  },
  {
   "cell_type": "code",
   "execution_count": 51,
   "id": "f650823f-e3b6-4af1-81db-4dd730eec1b1",
   "metadata": {},
   "outputs": [],
   "source": [
    "# Q1 monthly charges for those who churn is ~$55/mo. \n",
    "# People don't seem to be churning in significant numbers at the\n",
    "# in the lower price brackets.\n",
    "# Test for statistical significance here:"
   ]
  },
  {
   "cell_type": "markdown",
   "id": "ac07460d-7204-494b-b6df-70dc0513ed0d",
   "metadata": {},
   "source": [
    "$H_0$: Mean of monthly charges of churned customers >= Mean of monthly charges of all customers\n",
    "\n",
    "$H_a$: Mean of monthly charges of churned customers < Mean of monthly charges of all customers"
   ]
  },
  {
   "cell_type": "code",
   "execution_count": 52,
   "id": "2b9ef903-5942-48a5-999f-968523c9ce76",
   "metadata": {},
   "outputs": [
    {
     "data": {
      "text/plain": [
       "(13.647546461800857, 3.814450384596076e-39)"
      ]
     },
     "execution_count": 52,
     "metadata": {},
     "output_type": "execute_result"
    }
   ],
   "source": [
    "monthly_avg = train.monthly_charges.mean()\n",
    "monthly_charge_churned = train.monthly_charges[train.churn_encoded == 1]\n",
    "monthly_charge_churned\n",
    "t, p = stats.ttest_1samp(monthly_charge_churned, monthly_avg)\n",
    "t, p\n"
   ]
  },
  {
   "cell_type": "code",
   "execution_count": 53,
   "id": "c22bdbf8-b72f-4222-b7c1-5d4b0c6f839b",
   "metadata": {},
   "outputs": [
    {
     "name": "stdout",
     "output_type": "stream",
     "text": [
      "True\n",
      "True\n"
     ]
    }
   ],
   "source": [
    "# this is a one-tailed test so \n",
    "print(t > 0)\n",
    "print(p/2 < α)\n"
   ]
  },
  {
   "cell_type": "code",
   "execution_count": 54,
   "id": "4ae74368-0d98-415a-b616-b70ad3bde245",
   "metadata": {},
   "outputs": [
    {
     "data": {
      "image/png": "[encoded data removed]",
      "text/plain": [
       "<Figure size 640x480 with 1 Axes>"
      ]
     },
     "metadata": {},
     "output_type": "display_data"
    }
   ],
   "source": [
    "sns.boxplot(data=train, y='total_charges',x='churn_encoded')\n",
    "plt.show()"
   ]
  },
  {
   "cell_type": "code",
   "execution_count": 55,
   "id": "d8a5443e-c916-43c5-866f-2c1df268fe5d",
   "metadata": {},
   "outputs": [
    {
     "data": {
      "text/plain": [
       "count     3943.000000\n",
       "mean      3243.086673\n",
       "std       6921.534399\n",
       "min          0.000000\n",
       "25%        434.025000\n",
       "50%       1470.950000\n",
       "75%       4018.000000\n",
       "max      78560.000000\n",
       "Name: total_charges, dtype: float64"
      ]
     },
     "execution_count": 55,
     "metadata": {},
     "output_type": "execute_result"
    }
   ],
   "source": [
    "train.total_charges.describe()"
   ]
  },
  {
   "cell_type": "code",
   "execution_count": 56,
   "id": "2a47470e-d36d-4723-a261-0cb22a2bd999",
   "metadata": {},
   "outputs": [],
   "source": [
    "# looks like mean lifetime revenue from a customer is $3243"
   ]
  },
  {
   "cell_type": "markdown",
   "id": "7183a67d-66ae-46e9-bee7-779aa7e766fc",
   "metadata": {},
   "source": [
    "## Modeling"
   ]
  },
  {
   "cell_type": "code",
   "execution_count": 57,
   "id": "2e13bcbf-cc27-4bca-9b26-dcf3d6b1ff35",
   "metadata": {},
   "outputs": [],
   "source": [
    "# first I need to add the engineered features to val and test:\n",
    "val['solo_cust'] = (val.partner == 'No') & (val.dependents == 'No')\n",
    "val['no_cost_to_switch'] = (\n",
    "    val.online_security == 'No') & (val.online_backup == 'No')\n",
    "val['pain_points'] = ((val.tech_support == 'No') | \n",
    "                        (val.paperless_billing == 'Yes') |\n",
    "                        (val.payment_type == 'Electronic check'))\n"
   ]
  },
  {
   "cell_type": "code",
   "execution_count": 58,
   "id": "bd161f0e-919b-4bc6-b123-7ca3893340fb",
   "metadata": {},
   "outputs": [],
   "source": [
    "test['solo_cust'] = (test.partner == 'No') & (test.dependents == 'No')\n",
    "test['no_cost_to_switch'] = (\n",
    "    test.online_security == 'No') & (test.online_backup == 'No')\n",
    "test['pain_points'] = ((test.tech_support == 'No') | \n",
    "                        (test.paperless_billing == 'Yes') |\n",
    "                        (test.payment_type == 'Electronic check'))"
   ]
  },
  {
   "cell_type": "code",
   "execution_count": 59,
   "id": "81d1a1c7-8ccf-43b8-a2e4-e67204b8ff84",
   "metadata": {},
   "outputs": [],
   "source": [
    "# the new features are booleans so no need to encode.\n",
    "# I do need to add a baseline column too...\n",
    "train.churn_encoded.value_counts(normalize=True)\n",
    "train['baseline_prediction'] = 0\n",
    "val['baseline_prediction'] = 0\n",
    "test['baseline_prediction'] = 0\n"
   ]
  },
  {
   "cell_type": "markdown",
   "id": "acf0f475-8aa8-4d4e-ab04-fcca1085bba6",
   "metadata": {},
   "source": [
    "#### **Goal:** The goal of my modeling phase is to build a model that predicts customer churn. I think I have enough evidence for some specific recommendations based on bivariate stats, so I would like this model to use some engineered variables and the other significant drivers of churn to give the client tool to know which customers are likely to churn and maybe allow them to offer some just-in-time incentives to stay.\n",
    "\n",
    "#### **Features:**\n",
    "    1. contract_type_encoded\n",
    "    2. internet_service_type_encoded\n",
    "    3. senior_encoded\n",
    "    4. solo_cust\n",
    "    5. no_cost_to_switch\n",
    "    6. pain_points\n",
    "    7. tenure"
   ]
  },
  {
   "cell_type": "code",
   "execution_count": 60,
   "id": "106dbb7d-724b-4fb1-8980-0e98e075ff10",
   "metadata": {},
   "outputs": [
    {
     "data": {
      "text/plain": [
       "['customer_id',\n",
       " 'gender',\n",
       " 'senior_citizen',\n",
       " 'partner',\n",
       " 'dependents',\n",
       " 'tenure',\n",
       " 'phone_service',\n",
       " 'multiple_lines',\n",
       " 'online_security',\n",
       " 'online_backup',\n",
       " 'device_protection',\n",
       " 'tech_support',\n",
       " 'streaming_tv',\n",
       " 'streaming_movies',\n",
       " 'paperless_billing',\n",
       " 'monthly_charges',\n",
       " 'total_charges',\n",
       " 'churn',\n",
       " 'internet_service_type',\n",
       " 'contract_type',\n",
       " 'payment_type',\n",
       " 'gender_encoded',\n",
       " 'partner_encoded',\n",
       " 'dependents_encoded',\n",
       " 'phone_service_encoded',\n",
       " 'paperless_billing_encoded',\n",
       " 'churn_encoded',\n",
       " 'multiple_lines_No phone service',\n",
       " 'multiple_lines_Yes',\n",
       " 'online_security_No internet service',\n",
       " 'online_security_Yes',\n",
       " 'online_backup_No internet service',\n",
       " 'online_backup_Yes',\n",
       " 'device_protection_No internet service',\n",
       " 'device_protection_Yes',\n",
       " 'tech_support_No internet service',\n",
       " 'tech_support_Yes',\n",
       " 'streaming_tv_No internet service',\n",
       " 'streaming_tv_Yes',\n",
       " 'streaming_movies_No internet service',\n",
       " 'streaming_movies_Yes',\n",
       " 'contract_type_One year',\n",
       " 'contract_type_Two year',\n",
       " 'internet_service_type_Fiber optic',\n",
       " 'internet_service_type_None',\n",
       " 'payment_type_Credit card (automatic)',\n",
       " 'payment_type_Electronic check',\n",
       " 'payment_type_Mailed check',\n",
       " 'solo_cust',\n",
       " 'no_cost_to_switch',\n",
       " 'pain_points',\n",
       " 'baseline_prediction']"
      ]
     },
     "execution_count": 60,
     "metadata": {},
     "output_type": "execute_result"
    }
   ],
   "source": [
    "train.columns.tolist()"
   ]
  },
  {
   "cell_type": "code",
   "execution_count": 61,
   "id": "69a10cab-b32c-4d23-9f46-0b74c1595dcb",
   "metadata": {},
   "outputs": [],
   "source": [
    "# create X & y version of train, where y is a series \n",
    "# with just the target variable and X are all the features. \n",
    "features = ['contract_type_One year','contract_type_Two year',\n",
    "            'internet_service_type_Fiber optic', 'internet_service_type_None', \n",
    "            'senior_citizen', 'solo_cust', 'no_cost_to_switch', 'pain_points', 'tenure']\n",
    "X_train = train[features]\n",
    "y_train = train.churn_encoded\n",
    "\n",
    "X_val = val[features]\n",
    "y_val = val.churn_encoded\n",
    "\n",
    "X_test = test[features]\n",
    "y_test = test.churn_encoded\n"
   ]
  },
  {
   "cell_type": "code",
   "execution_count": null,
   "id": "210c6e19-9664-4790-b5db-62cdf3dfb1b0",
   "metadata": {},
   "outputs": [],
   "source": []
  },
  {
   "cell_type": "code",
   "execution_count": 62,
   "id": "2cdd2e03-291f-43b0-ad21-62090e15c263",
   "metadata": {},
   "outputs": [
    {
     "name": "stdout",
     "output_type": "stream",
     "text": [
      "\n",
      "Performance in accuracy of Random Forest 1 on training data:\n",
      "Accuracy (train): 0.8227238143545523\n",
      "Accuracy (validate): 0.79\n",
      "________________________________________________\n",
      "________________________________________________\n",
      "              precision    recall  f1-score   support\n",
      "\n",
      "           0       0.86      0.90      0.88      2897\n",
      "           1       0.69      0.60      0.64      1046\n",
      "\n",
      "    accuracy                           0.82      3943\n",
      "   macro avg       0.78      0.75      0.76      3943\n",
      "weighted avg       0.82      0.82      0.82      3943\n",
      "\n"
     ]
    }
   ],
   "source": [
    "# make the thing\n",
    "\n",
    "rf1 = RandomForestClassifier(bootstrap=True, \n",
    "                            class_weight=None, \n",
    "                            criterion='gini',\n",
    "                            min_samples_leaf=3,\n",
    "                            n_estimators=100,\n",
    "                            max_depth=10, \n",
    "                            random_state=9751)\n",
    "\n",
    "\n",
    "# fit the thing\n",
    "rf1.fit(X_train, y_train)\n",
    "\n",
    "# use the thing\n",
    "rf1_preds = rf1.predict(X_train)\n",
    "\n",
    "print(f'''\n",
    "Performance in accuracy of Random Forest 1 on training data:\n",
    "Accuracy (train): {rf1.score(X_train, y_train)}\n",
    "Accuracy (validate): {round(rf1.score(X_val, y_val), 2)}''')\n",
    "print('________________________________________________')\n",
    "print('________________________________________________')\n",
    "# classification report:\n",
    "print(\n",
    "    classification_report(y_train,\n",
    "                      rf1_preds))\n"
   ]
  },
  {
   "cell_type": "code",
   "execution_count": 63,
   "id": "f402aca7-69d6-4303-a3c0-0345904446c2",
   "metadata": {},
   "outputs": [],
   "source": [
    "# rf.classes_\n",
    "# dict(zip(features, imp))"
   ]
  },
  {
   "cell_type": "code",
   "execution_count": 64,
   "id": "7a47b497-413a-4ccb-b227-cf3abf83835a",
   "metadata": {},
   "outputs": [
    {
     "name": "stdout",
     "output_type": "stream",
     "text": [
      "\n",
      "Performance in accuracy of Random Forest 2 on training data:\n",
      "Accuracy (train): 0.8029419223941161\n",
      "Accuracy (validate): 0.8\n",
      "________________________________________________\n",
      "________________________________________________\n",
      "              precision    recall  f1-score   support\n",
      "\n",
      "           0       0.84      0.90      0.87      2897\n",
      "           1       0.66      0.52      0.58      1046\n",
      "\n",
      "    accuracy                           0.80      3943\n",
      "   macro avg       0.75      0.71      0.73      3943\n",
      "weighted avg       0.79      0.80      0.79      3943\n",
      "\n"
     ]
    }
   ],
   "source": [
    "rf2 = RandomForestClassifier(bootstrap=True, \n",
    "                            class_weight=None, \n",
    "                            criterion='gini',\n",
    "                            min_samples_leaf=2,\n",
    "                            n_estimators=100,\n",
    "                            max_depth=7, \n",
    "                            random_state=9751)\n",
    "rf2.fit(X_train, y_train)\n",
    "rf2_preds = rf2.predict(X_train)\n",
    "print(f'''\n",
    "Performance in accuracy of Random Forest 2 on training data:\n",
    "Accuracy (train): {rf2.score(X_train, y_train)}\n",
    "Accuracy (validate): {round(rf2.score(X_val, y_val), 2)}''')\n",
    "print('________________________________________________')\n",
    "print('________________________________________________')\n",
    "# classification report:\n",
    "print(\n",
    "    classification_report(y_train,\n",
    "                      rf2_preds))"
   ]
  },
  {
   "cell_type": "code",
   "execution_count": 65,
   "id": "f7e1b53d-f8a7-4dfd-b1ef-7cd3169c2d94",
   "metadata": {},
   "outputs": [
    {
     "name": "stdout",
     "output_type": "stream",
     "text": [
      "\n",
      "Performance in accuracy of Random Forest 3 on training data:\n",
      "Accuracy (train): 0.7998985544002029\n",
      "Accuracy (validate): 0.79\n",
      "________________________________________________\n",
      "________________________________________________\n",
      "              precision    recall  f1-score   support\n",
      "\n",
      "           0       0.84      0.90      0.87      2897\n",
      "           1       0.66      0.51      0.58      1046\n",
      "\n",
      "    accuracy                           0.80      3943\n",
      "   macro avg       0.75      0.71      0.72      3943\n",
      "weighted avg       0.79      0.80      0.79      3943\n",
      "\n"
     ]
    }
   ],
   "source": [
    "rf3 = RandomForestClassifier(bootstrap=True, \n",
    "                            class_weight=None, \n",
    "                            criterion='gini',\n",
    "                            min_samples_leaf=3,\n",
    "                            n_estimators=100,\n",
    "                            max_depth=6, \n",
    "                            random_state=9751)\n",
    "rf3.fit(X_train, y_train)\n",
    "rf3_preds = rf3.predict(X_train)\n",
    "print(f'''\n",
    "Performance in accuracy of Random Forest 3 on training data:\n",
    "Accuracy (train): {rf3.score(X_train, y_train)}\n",
    "Accuracy (validate): {round(rf3.score(X_val, y_val), 2)}''')\n",
    "print('________________________________________________')\n",
    "print('________________________________________________')\n",
    "# classification report:\n",
    "print(\n",
    "    classification_report(y_train,\n",
    "                      rf3_preds))"
   ]
  },
  {
   "cell_type": "code",
   "execution_count": 66,
   "id": "b3714fd5-efdf-4a5d-834c-efcb72d9ccce",
   "metadata": {},
   "outputs": [
    {
     "name": "stdout",
     "output_type": "stream",
     "text": [
      "\n",
      "Performance in accuracy of Random Forest 4 on training data:\n",
      "Accuracy (train): 0.7950798884098402\n",
      "Accuracy (validate): 0.8\n",
      "________________________________________________\n",
      "________________________________________________\n",
      "              precision    recall  f1-score   support\n",
      "\n",
      "           0       0.83      0.91      0.87      2897\n",
      "           1       0.66      0.46      0.55      1046\n",
      "\n",
      "    accuracy                           0.80      3943\n",
      "   macro avg       0.74      0.69      0.71      3943\n",
      "weighted avg       0.78      0.80      0.78      3943\n",
      "\n"
     ]
    }
   ],
   "source": [
    "rf4 = RandomForestClassifier(bootstrap=True, \n",
    "                            class_weight=None, \n",
    "                            criterion='gini',\n",
    "                            min_samples_leaf=3,\n",
    "                            n_estimators=100,\n",
    "                            max_depth=4, \n",
    "                            random_state=9751)\n",
    "rf4.fit(X_train, y_train)\n",
    "rf4_preds = rf4.predict(X_train)\n",
    "print(f'''\n",
    "Performance in accuracy of Random Forest 4 on training data:\n",
    "Accuracy (train): {rf4.score(X_train, y_train)}\n",
    "Accuracy (validate): {round(rf4.score(X_val, y_val), 2)}''')\n",
    "print('________________________________________________')\n",
    "print('________________________________________________')\n",
    "# classification report:\n",
    "print(\n",
    "    classification_report(y_train,\n",
    "                      rf4_preds))"
   ]
  },
  {
   "cell_type": "code",
   "execution_count": 67,
   "id": "1ff9cbe6-9dac-41a1-975c-60bc1bb76333",
   "metadata": {},
   "outputs": [
    {
     "name": "stdout",
     "output_type": "stream",
     "text": [
      "\n",
      "Performance in accuracy of Random Forest 5 on training data:\n",
      "Accuracy (train): 0.7768196804463606\n",
      "Accuracy (validate): 0.79\n",
      "________________________________________________\n",
      "________________________________________________\n",
      "              precision    recall  f1-score   support\n",
      "\n",
      "           0       0.79      0.95      0.86      2897\n",
      "           1       0.68      0.30      0.42      1046\n",
      "\n",
      "    accuracy                           0.78      3943\n",
      "   macro avg       0.73      0.62      0.64      3943\n",
      "weighted avg       0.76      0.78      0.74      3943\n",
      "\n"
     ]
    }
   ],
   "source": [
    "rf5 = RandomForestClassifier(bootstrap=True, \n",
    "                            class_weight=None, \n",
    "                            criterion='gini',\n",
    "                            min_samples_leaf=3,\n",
    "                            n_estimators=100,\n",
    "                            max_depth=3, \n",
    "                            random_state=9751)\n",
    "rf5.fit(X_train, y_train)\n",
    "rf5_preds = rf5.predict(X_train)\n",
    "print(f'''\n",
    "Performance in accuracy of Random Forest 5 on training data:\n",
    "Accuracy (train): {rf5.score(X_train, y_train)}\n",
    "Accuracy (validate): {round(rf5.score(X_val, y_val), 2)}''')\n",
    "print('________________________________________________')\n",
    "print('________________________________________________')\n",
    "# classification report:\n",
    "print(\n",
    "    classification_report(y_train,\n",
    "                      rf5_preds))"
   ]
  },
  {
   "cell_type": "code",
   "execution_count": 68,
   "id": "1295ed23-05d2-4624-9c6c-f480b70ed95a",
   "metadata": {},
   "outputs": [
    {
     "name": "stdout",
     "output_type": "stream",
     "text": [
      "\n",
      "Performance in accuracy of Random Forest 6 on training data:\n",
      "Accuracy (train): 0.8082678163834643\n",
      "Accuracy (validate): 0.8\n",
      "________________________________________________\n",
      "________________________________________________\n",
      "              precision    recall  f1-score   support\n",
      "\n",
      "           0       0.84      0.91      0.87      2897\n",
      "           1       0.67      0.54      0.60      1046\n",
      "\n",
      "    accuracy                           0.81      3943\n",
      "   macro avg       0.76      0.72      0.74      3943\n",
      "weighted avg       0.80      0.81      0.80      3943\n",
      "\n"
     ]
    }
   ],
   "source": [
    "rf6 = RandomForestClassifier(bootstrap=True, \n",
    "                            class_weight=None, \n",
    "                            criterion='gini',\n",
    "                            min_samples_leaf=2,\n",
    "                            n_estimators=100,\n",
    "                            max_depth=8, \n",
    "                            random_state=9751)\n",
    "rf6.fit(X_train, y_train)\n",
    "rf6_preds = rf6.predict(X_train)\n",
    "print(f'''\n",
    "Performance in accuracy of Random Forest 6 on training data:\n",
    "Accuracy (train): {rf6.score(X_train, y_train)}\n",
    "Accuracy (validate): {round(rf6.score(X_val, y_val), 2)}''')\n",
    "print('________________________________________________')\n",
    "print('________________________________________________')\n",
    "# classification report:\n",
    "print(\n",
    "    classification_report(y_train,\n",
    "                      rf6_preds))"
   ]
  },
  {
   "cell_type": "code",
   "execution_count": 69,
   "id": "1ff6fa0c-7a27-4c0f-81e5-40521c0b936f",
   "metadata": {},
   "outputs": [
    {
     "name": "stdout",
     "output_type": "stream",
     "text": [
      "\n",
      "Performance in accuracy of Random Forest on training data:\n",
      "Accuracy (train): 0.8686279482627441\n",
      "Accuracy (validate): 0.76\n",
      "________________________________________________\n",
      "________________________________________________\n",
      "              precision    recall  f1-score   support\n",
      "\n",
      "           0       0.90      0.92      0.91      2897\n",
      "           1       0.76      0.73      0.75      1046\n",
      "\n",
      "    accuracy                           0.87      3943\n",
      "   macro avg       0.83      0.82      0.83      3943\n",
      "weighted avg       0.87      0.87      0.87      3943\n",
      "\n"
     ]
    }
   ],
   "source": [
    "rf = RandomForestClassifier()\n",
    "rf.fit(X_train, y_train)\n",
    "rf_preds = rf.predict(X_train)\n",
    "print(f'''\n",
    "Performance in accuracy of Random Forest on training data:\n",
    "Accuracy (train): {rf.score(X_train, y_train)}\n",
    "Accuracy (validate): {round(rf.score(X_val, y_val), 2)}''')\n",
    "print('________________________________________________')\n",
    "print('________________________________________________')\n",
    "# classification report:\n",
    "print(\n",
    "    classification_report(y_train,\n",
    "                      rf_preds))"
   ]
  },
  {
   "cell_type": "code",
   "execution_count": 70,
   "id": "5def164b-0c67-4943-9a48-9c23295d0a44",
   "metadata": {},
   "outputs": [],
   "source": [
    "# Let's try with a Decision Tree:"
   ]
  },
  {
   "cell_type": "code",
   "execution_count": 71,
   "id": "44e5985f-1f7a-4da9-8425-c57ad492307f",
   "metadata": {},
   "outputs": [
    {
     "name": "stdout",
     "output_type": "stream",
     "text": [
      "\n",
      "Performance in accuracy of Decision Tree on training data:\n",
      "Accuracy (train): 0.8686279482627441\n",
      "Accuracy (validate): 0.76\n",
      "________________________________________________\n",
      "________________________________________________\n",
      "              precision    recall  f1-score   support\n",
      "\n",
      "           0       0.89      0.94      0.91      2897\n",
      "           1       0.80      0.67      0.73      1046\n",
      "\n",
      "    accuracy                           0.87      3943\n",
      "   macro avg       0.84      0.81      0.82      3943\n",
      "weighted avg       0.86      0.87      0.86      3943\n",
      "\n"
     ]
    }
   ],
   "source": [
    "clf = DecisionTreeClassifier()\n",
    "\n",
    "clf.fit(X_train, y_train)\n",
    "clf_preds = clf.predict(X_train)\n",
    "print(f'''\n",
    "Performance in accuracy of Decision Tree on training data:\n",
    "Accuracy (train): {clf.score(X_train, y_train)}\n",
    "Accuracy (validate): {round(clf.score(X_val, y_val), 2)}''')\n",
    "print('________________________________________________')\n",
    "print('________________________________________________')\n",
    "# classification report:\n",
    "print(\n",
    "    classification_report(y_train,\n",
    "                      clf_preds))"
   ]
  },
  {
   "cell_type": "code",
   "execution_count": 72,
   "id": "694ffbd4-032a-4f62-aba4-83558cc1adf4",
   "metadata": {},
   "outputs": [
    {
     "name": "stdout",
     "output_type": "stream",
     "text": [
      "\n",
      "Performance in accuracy of Decision Tree 1 on training data:\n",
      "Accuracy (train): 0.8168906923662186\n",
      "Accuracy (validate): 0.77\n",
      "________________________________________________\n",
      "________________________________________________\n",
      "              precision    recall  f1-score   support\n",
      "\n",
      "           0       0.85      0.91      0.88      2897\n",
      "           1       0.69      0.55      0.62      1046\n",
      "\n",
      "    accuracy                           0.82      3943\n",
      "   macro avg       0.77      0.73      0.75      3943\n",
      "weighted avg       0.81      0.82      0.81      3943\n",
      "\n"
     ]
    }
   ],
   "source": [
    "clf1 = DecisionTreeClassifier(max_depth=10, min_samples_leaf=5)\n",
    "\n",
    "clf1.fit(X_train, y_train)\n",
    "clf1_preds = clf1.predict(X_train)\n",
    "print(f'''\n",
    "Performance in accuracy of Decision Tree 1 on training data:\n",
    "Accuracy (train): {clf1.score(X_train, y_train)}\n",
    "Accuracy (validate): {round(clf1.score(X_val, y_val), 2)}''')\n",
    "print('________________________________________________')\n",
    "print('________________________________________________')\n",
    "# classification report:\n",
    "print(\n",
    "    classification_report(y_train,\n",
    "                      clf1_preds))"
   ]
  },
  {
   "cell_type": "code",
   "execution_count": 73,
   "id": "f71d538f-fa2a-4ee7-b7f9-9895585c433a",
   "metadata": {},
   "outputs": [
    {
     "name": "stdout",
     "output_type": "stream",
     "text": [
      "\n",
      "Performance in accuracy of Decision Tree 2 on training data:\n",
      "Accuracy (train): 0.8082678163834643\n",
      "Accuracy (validate): 0.78\n",
      "________________________________________________\n",
      "________________________________________________\n",
      "              precision    recall  f1-score   support\n",
      "\n",
      "           0       0.85      0.89      0.87      2897\n",
      "           1       0.66      0.58      0.62      1046\n",
      "\n",
      "    accuracy                           0.81      3943\n",
      "   macro avg       0.76      0.74      0.74      3943\n",
      "weighted avg       0.80      0.81      0.80      3943\n",
      "\n"
     ]
    }
   ],
   "source": [
    "clf2 = DecisionTreeClassifier(max_depth=8, min_samples_leaf=5)\n",
    "\n",
    "clf2.fit(X_train, y_train)\n",
    "clf2_preds = clf2.predict(X_train)\n",
    "print(f'''\n",
    "Performance in accuracy of Decision Tree 2 on training data:\n",
    "Accuracy (train): {clf2.score(X_train, y_train)}\n",
    "Accuracy (validate): {round(clf2.score(X_val, y_val), 2)}''')\n",
    "print('________________________________________________')\n",
    "print('________________________________________________')\n",
    "# classification report:\n",
    "print(\n",
    "    classification_report(y_train,\n",
    "                      clf2_preds))"
   ]
  },
  {
   "cell_type": "code",
   "execution_count": 74,
   "id": "83eedb8d-acbb-457a-bb40-6d94a0b2d56f",
   "metadata": {},
   "outputs": [
    {
     "name": "stdout",
     "output_type": "stream",
     "text": [
      "\n",
      "Performance in accuracy of Decision Tree 3 on training data:\n",
      "Accuracy (train): 0.7988840984022318\n",
      "Accuracy (validate): 0.79\n",
      "________________________________________________\n",
      "________________________________________________\n",
      "              precision    recall  f1-score   support\n",
      "\n",
      "           0       0.85      0.87      0.86      2897\n",
      "           1       0.63      0.59      0.61      1046\n",
      "\n",
      "    accuracy                           0.80      3943\n",
      "   macro avg       0.74      0.73      0.74      3943\n",
      "weighted avg       0.80      0.80      0.80      3943\n",
      "\n"
     ]
    }
   ],
   "source": [
    "clf3 = DecisionTreeClassifier(max_depth=6, min_samples_leaf=5)\n",
    "\n",
    "clf3.fit(X_train, y_train)\n",
    "clf3_preds = clf3.predict(X_train)\n",
    "print(f'''\n",
    "Performance in accuracy of Decision Tree 3 on training data:\n",
    "Accuracy (train): {clf3.score(X_train, y_train)}\n",
    "Accuracy (validate): {round(clf3.score(X_val, y_val), 2)}''')\n",
    "print('________________________________________________')\n",
    "print('________________________________________________')\n",
    "# classification report:\n",
    "print(\n",
    "    classification_report(y_train,\n",
    "                      clf3_preds))"
   ]
  },
  {
   "cell_type": "code",
   "execution_count": 75,
   "id": "9efd7129-899a-4a51-9ac4-555fcab82be9",
   "metadata": {},
   "outputs": [
    {
     "name": "stdout",
     "output_type": "stream",
     "text": [
      "\n",
      "Performance in accuracy of Decision Tree 4 on training data:\n",
      "Accuracy (train): 0.7968551864062896\n",
      "Accuracy (validate): 0.8\n",
      "________________________________________________\n",
      "________________________________________________\n",
      "              precision    recall  f1-score   support\n",
      "\n",
      "           0       0.84      0.89      0.87      2897\n",
      "           1       0.64      0.53      0.58      1046\n",
      "\n",
      "    accuracy                           0.80      3943\n",
      "   macro avg       0.74      0.71      0.72      3943\n",
      "weighted avg       0.79      0.80      0.79      3943\n",
      "\n"
     ]
    }
   ],
   "source": [
    "clf4 = DecisionTreeClassifier(max_depth=5, min_samples_leaf=5)\n",
    "\n",
    "clf4.fit(X_train, y_train)\n",
    "clf4_preds = clf4.predict(X_train)\n",
    "print(f'''\n",
    "Performance in accuracy of Decision Tree 4 on training data:\n",
    "Accuracy (train): {clf4.score(X_train, y_train)}\n",
    "Accuracy (validate): {round(clf4.score(X_val, y_val), 2)}''')\n",
    "print('________________________________________________')\n",
    "print('________________________________________________')\n",
    "# classification report:\n",
    "print(\n",
    "    classification_report(y_train,\n",
    "                      clf4_preds))"
   ]
  },
  {
   "cell_type": "markdown",
   "id": "c6bb0f28-9a7e-4769-805d-52473b93783f",
   "metadata": {},
   "source": [
    "#### Model Test!"
   ]
  },
  {
   "cell_type": "code",
   "execution_count": 76,
   "id": "fecfe368-86bf-498c-8deb-c60328b6ef08",
   "metadata": {},
   "outputs": [
    {
     "name": "stdout",
     "output_type": "stream",
     "text": [
      "Accuracy of clf4 model on Test data set: 0.794180269694819\n"
     ]
    }
   ],
   "source": [
    "# final test: on the test\n",
    "# remember! just once! not just once per algorithm!\n",
    "# use the assessment on your test set *AFTER* you have chosen your best model\n",
    "print(f'Accuracy of clf4 model on Test data set: {clf4.score(X_test, y_test)}')"
   ]
  },
  {
   "cell_type": "code",
   "execution_count": 77,
   "id": "fa13929d-c872-4491-a1bd-57d3dd5f80c6",
   "metadata": {},
   "outputs": [
    {
     "data": {
      "text/plain": [
       "0.19730305180979418"
      ]
     },
     "execution_count": 77,
     "metadata": {},
     "output_type": "execute_result"
    }
   ],
   "source": [
    "y_pred = clf4.predict(X_test)\n",
    "y_pred.mean()"
   ]
  },
  {
   "cell_type": "code",
   "execution_count": 87,
   "id": "2bf896b9-1ccb-45f7-84c2-b6177d46ce19",
   "metadata": {},
   "outputs": [],
   "source": [
    "y_preds = pd.Series(y_pred, index=test.customer_id)"
   ]
  },
  {
   "cell_type": "code",
   "execution_count": 78,
   "id": "a0f3728b-a959-40c9-a28d-e07ccecc9a15",
   "metadata": {},
   "outputs": [
    {
     "data": {
      "text/html": [
       "<div>\n",
       "<style scoped>\n",
       "    .dataframe tbody tr th:only-of-type {\n",
       "        vertical-align: middle;\n",
       "    }\n",
       "\n",
       "    .dataframe tbody tr th {\n",
       "        vertical-align: top;\n",
       "    }\n",
       "\n",
       "    .dataframe thead th {\n",
       "        text-align: right;\n",
       "    }\n",
       "</style>\n",
       "<table border=\"1\" class=\"dataframe\">\n",
       "  <thead>\n",
       "    <tr style=\"text-align: right;\">\n",
       "      <th></th>\n",
       "      <th>5224</th>\n",
       "      <th>1918</th>\n",
       "      <th>2391</th>\n",
       "      <th>5644</th>\n",
       "      <th>4790</th>\n",
       "    </tr>\n",
       "  </thead>\n",
       "  <tbody>\n",
       "    <tr>\n",
       "      <th>contract_type_One year</th>\n",
       "      <td>0</td>\n",
       "      <td>0</td>\n",
       "      <td>0</td>\n",
       "      <td>0</td>\n",
       "      <td>1</td>\n",
       "    </tr>\n",
       "    <tr>\n",
       "      <th>contract_type_Two year</th>\n",
       "      <td>1</td>\n",
       "      <td>0</td>\n",
       "      <td>0</td>\n",
       "      <td>0</td>\n",
       "      <td>0</td>\n",
       "    </tr>\n",
       "    <tr>\n",
       "      <th>internet_service_type_Fiber optic</th>\n",
       "      <td>0</td>\n",
       "      <td>0</td>\n",
       "      <td>0</td>\n",
       "      <td>0</td>\n",
       "      <td>0</td>\n",
       "    </tr>\n",
       "    <tr>\n",
       "      <th>internet_service_type_None</th>\n",
       "      <td>0</td>\n",
       "      <td>1</td>\n",
       "      <td>1</td>\n",
       "      <td>1</td>\n",
       "      <td>0</td>\n",
       "    </tr>\n",
       "    <tr>\n",
       "      <th>senior_citizen</th>\n",
       "      <td>0</td>\n",
       "      <td>0</td>\n",
       "      <td>0</td>\n",
       "      <td>0</td>\n",
       "      <td>0</td>\n",
       "    </tr>\n",
       "    <tr>\n",
       "      <th>solo_cust</th>\n",
       "      <td>False</td>\n",
       "      <td>True</td>\n",
       "      <td>False</td>\n",
       "      <td>True</td>\n",
       "      <td>False</td>\n",
       "    </tr>\n",
       "    <tr>\n",
       "      <th>no_cost_to_switch</th>\n",
       "      <td>True</td>\n",
       "      <td>False</td>\n",
       "      <td>False</td>\n",
       "      <td>False</td>\n",
       "      <td>False</td>\n",
       "    </tr>\n",
       "    <tr>\n",
       "      <th>pain_points</th>\n",
       "      <td>False</td>\n",
       "      <td>True</td>\n",
       "      <td>False</td>\n",
       "      <td>False</td>\n",
       "      <td>False</td>\n",
       "    </tr>\n",
       "    <tr>\n",
       "      <th>tenure</th>\n",
       "      <td>63</td>\n",
       "      <td>3</td>\n",
       "      <td>22</td>\n",
       "      <td>6</td>\n",
       "      <td>57</td>\n",
       "    </tr>\n",
       "  </tbody>\n",
       "</table>\n",
       "</div>"
      ],
      "text/plain": [
       "                                    5224   1918   2391   5644   4790\n",
       "contract_type_One year                 0      0      0      0      1\n",
       "contract_type_Two year                 1      0      0      0      0\n",
       "internet_service_type_Fiber optic      0      0      0      0      0\n",
       "internet_service_type_None             0      1      1      1      0\n",
       "senior_citizen                         0      0      0      0      0\n",
       "solo_cust                          False   True  False   True  False\n",
       "no_cost_to_switch                   True  False  False  False  False\n",
       "pain_points                        False   True  False  False  False\n",
       "tenure                                63      3     22      6     57"
      ]
     },
     "execution_count": 78,
     "metadata": {},
     "output_type": "execute_result"
    }
   ],
   "source": [
    "X_test.head().T"
   ]
  },
  {
   "cell_type": "code",
   "execution_count": 79,
   "id": "1d13af05-2845-4364-852a-3fc9c652abb7",
   "metadata": {},
   "outputs": [
    {
     "data": {
      "text/plain": [
       "array([[0.98461538, 0.01538462],\n",
       "       [0.92605634, 0.07394366],\n",
       "       [0.92605634, 0.07394366],\n",
       "       ...,\n",
       "       [0.97826087, 0.02173913],\n",
       "       [0.68376068, 0.31623932],\n",
       "       [0.56697819, 0.43302181]])"
      ]
     },
     "execution_count": 79,
     "metadata": {},
     "output_type": "execute_result"
    }
   ],
   "source": [
    "y_pred_proba = clf4.predict_proba(X_test)\n",
    "y_pred_proba"
   ]
  },
  {
   "cell_type": "code",
   "execution_count": 86,
   "id": "21b1ec78-1b3c-4961-bd13-d23bb04ce11e",
   "metadata": {},
   "outputs": [],
   "source": [
    "test_probas = pd.Series(y_pred_proba[:,1], index=test.customer_id)"
   ]
  },
  {
   "cell_type": "code",
   "execution_count": 91,
   "id": "71ff416c-b6e3-4cb8-9cd9-c5efc47cfca4",
   "metadata": {},
   "outputs": [],
   "source": [
    "preds_csv = pd.concat([y_preds, test_probas], axis=1).reset_index()"
   ]
  },
  {
   "cell_type": "code",
   "execution_count": 92,
   "id": "5baa0cd4-6d05-44d7-873c-9110e5f36756",
   "metadata": {},
   "outputs": [],
   "source": [
    "preds_csv.columns = ['id', 'prediction', 'proba']"
   ]
  },
  {
   "cell_type": "code",
   "execution_count": 93,
   "id": "bf0ca35b-6873-46ed-9216-5f3de0829434",
   "metadata": {},
   "outputs": [],
   "source": [
    "preds_csv.to_csv('predictions.csv')"
   ]
  },
  {
   "cell_type": "code",
   "execution_count": 81,
   "id": "952d727c-b3b4-484a-bd3c-ed613f89e686",
   "metadata": {},
   "outputs": [
    {
     "data": {
      "text/plain": [
       "Int64Index([5224, 1918, 2391, 5644, 4790, 3306, 1457, 4493, 5846, 4998,\n",
       "            ...\n",
       "            4696, 3908, 3941, 3793, 3141, 2275, 1313, 6746,    5,   89],\n",
       "           dtype='int64', length=1409)"
      ]
     },
     "execution_count": 81,
     "metadata": {},
     "output_type": "execute_result"
    }
   ],
   "source": [
    "x_ind = X_test.index\n",
    "x_ind"
   ]
  },
  {
   "cell_type": "code",
   "execution_count": 82,
   "id": "00cefa33-cb2c-4614-879f-df90b3127d11",
   "metadata": {},
   "outputs": [
    {
     "data": {
      "text/plain": [
       "5224    0\n",
       "1918    0\n",
       "2391    0\n",
       "5644    0\n",
       "4790    1\n",
       "       ..\n",
       "2275    1\n",
       "1313    1\n",
       "6746    0\n",
       "5       0\n",
       "89      0\n",
       "Name: contract_type_One year, Length: 1409, dtype: uint8"
      ]
     },
     "execution_count": 82,
     "metadata": {},
     "output_type": "execute_result"
    }
   ],
   "source": [
    "X_test.iloc[:,0]"
   ]
  },
  {
   "cell_type": "code",
   "execution_count": 83,
   "id": "f4c91382-9141-441e-b2dc-ccfb6d699ccc",
   "metadata": {},
   "outputs": [
    {
     "data": {
      "text/html": [
       "<div>\n",
       "<style scoped>\n",
       "    .dataframe tbody tr th:only-of-type {\n",
       "        vertical-align: middle;\n",
       "    }\n",
       "\n",
       "    .dataframe tbody tr th {\n",
       "        vertical-align: top;\n",
       "    }\n",
       "\n",
       "    .dataframe thead th {\n",
       "        text-align: right;\n",
       "    }\n",
       "</style>\n",
       "<table border=\"1\" class=\"dataframe\">\n",
       "  <thead>\n",
       "    <tr style=\"text-align: right;\">\n",
       "      <th></th>\n",
       "      <th>0</th>\n",
       "    </tr>\n",
       "  </thead>\n",
       "  <tbody>\n",
       "    <tr>\n",
       "      <th>0</th>\n",
       "      <td>0</td>\n",
       "    </tr>\n",
       "    <tr>\n",
       "      <th>1</th>\n",
       "      <td>0</td>\n",
       "    </tr>\n",
       "    <tr>\n",
       "      <th>2</th>\n",
       "      <td>0</td>\n",
       "    </tr>\n",
       "    <tr>\n",
       "      <th>3</th>\n",
       "      <td>0</td>\n",
       "    </tr>\n",
       "    <tr>\n",
       "      <th>4</th>\n",
       "      <td>0</td>\n",
       "    </tr>\n",
       "    <tr>\n",
       "      <th>...</th>\n",
       "      <td>...</td>\n",
       "    </tr>\n",
       "    <tr>\n",
       "      <th>1404</th>\n",
       "      <td>0</td>\n",
       "    </tr>\n",
       "    <tr>\n",
       "      <th>1405</th>\n",
       "      <td>0</td>\n",
       "    </tr>\n",
       "    <tr>\n",
       "      <th>1406</th>\n",
       "      <td>0</td>\n",
       "    </tr>\n",
       "    <tr>\n",
       "      <th>1407</th>\n",
       "      <td>0</td>\n",
       "    </tr>\n",
       "    <tr>\n",
       "      <th>1408</th>\n",
       "      <td>0</td>\n",
       "    </tr>\n",
       "  </tbody>\n",
       "</table>\n",
       "<p>1409 rows × 1 columns</p>\n",
       "</div>"
      ],
      "text/plain": [
       "      0\n",
       "0     0\n",
       "1     0\n",
       "2     0\n",
       "3     0\n",
       "4     0\n",
       "...  ..\n",
       "1404  0\n",
       "1405  0\n",
       "1406  0\n",
       "1407  0\n",
       "1408  0\n",
       "\n",
       "[1409 rows x 1 columns]"
      ]
     },
     "execution_count": 83,
     "metadata": {},
     "output_type": "execute_result"
    }
   ],
   "source": [
    "y_pred_df = pd.DataFrame(y_pred)\n",
    "y_pred_df"
   ]
  },
  {
   "cell_type": "code",
   "execution_count": 84,
   "id": "711412ba-d112-48f6-b8ff-8696f2237f59",
   "metadata": {},
   "outputs": [
    {
     "name": "stderr",
     "output_type": "stream",
     "text": [
      "/var/folders/pd/dk0dsnvs72ng9hv5mkv2d0980000gn/T/ipykernel_4670/3970242131.py:1: FutureWarning: In a future version of pandas all arguments of concat except for the argument 'objs' will be keyword-only.\n",
      "  pd.concat(X_test, y_pred_df)\n"
     ]
    },
    {
     "ename": "TypeError",
     "evalue": "first argument must be an iterable of pandas objects, you passed an object of type \"DataFrame\"",
     "output_type": "error",
     "traceback": [
      "\u001b[0;31m---------------------------------------------------------------------------\u001b[0m",
      "\u001b[0;31mTypeError\u001b[0m                                 Traceback (most recent call last)",
      "Input \u001b[0;32mIn [84]\u001b[0m, in \u001b[0;36m<cell line: 1>\u001b[0;34m()\u001b[0m\n\u001b[0;32m----> 1\u001b[0m \u001b[43mpd\u001b[49m\u001b[38;5;241;43m.\u001b[39;49m\u001b[43mconcat\u001b[49m\u001b[43m(\u001b[49m\u001b[43mX_test\u001b[49m\u001b[43m,\u001b[49m\u001b[43m \u001b[49m\u001b[43my_pred_df\u001b[49m\u001b[43m)\u001b[49m\n",
      "File \u001b[0;32m/opt/homebrew/anaconda3/lib/python3.9/site-packages/pandas/util/_decorators.py:311\u001b[0m, in \u001b[0;36mdeprecate_nonkeyword_arguments.<locals>.decorate.<locals>.wrapper\u001b[0;34m(*args, **kwargs)\u001b[0m\n\u001b[1;32m    305\u001b[0m \u001b[38;5;28;01mif\u001b[39;00m \u001b[38;5;28mlen\u001b[39m(args) \u001b[38;5;241m>\u001b[39m num_allow_args:\n\u001b[1;32m    306\u001b[0m     warnings\u001b[38;5;241m.\u001b[39mwarn(\n\u001b[1;32m    307\u001b[0m         msg\u001b[38;5;241m.\u001b[39mformat(arguments\u001b[38;5;241m=\u001b[39marguments),\n\u001b[1;32m    308\u001b[0m         \u001b[38;5;167;01mFutureWarning\u001b[39;00m,\n\u001b[1;32m    309\u001b[0m         stacklevel\u001b[38;5;241m=\u001b[39mstacklevel,\n\u001b[1;32m    310\u001b[0m     )\n\u001b[0;32m--> 311\u001b[0m \u001b[38;5;28;01mreturn\u001b[39;00m \u001b[43mfunc\u001b[49m\u001b[43m(\u001b[49m\u001b[38;5;241;43m*\u001b[39;49m\u001b[43margs\u001b[49m\u001b[43m,\u001b[49m\u001b[43m \u001b[49m\u001b[38;5;241;43m*\u001b[39;49m\u001b[38;5;241;43m*\u001b[39;49m\u001b[43mkwargs\u001b[49m\u001b[43m)\u001b[49m\n",
      "File \u001b[0;32m/opt/homebrew/anaconda3/lib/python3.9/site-packages/pandas/core/reshape/concat.py:347\u001b[0m, in \u001b[0;36mconcat\u001b[0;34m(objs, axis, join, ignore_index, keys, levels, names, verify_integrity, sort, copy)\u001b[0m\n\u001b[1;32m    143\u001b[0m \u001b[38;5;129m@deprecate_nonkeyword_arguments\u001b[39m(version\u001b[38;5;241m=\u001b[39m\u001b[38;5;28;01mNone\u001b[39;00m, allowed_args\u001b[38;5;241m=\u001b[39m[\u001b[38;5;124m\"\u001b[39m\u001b[38;5;124mobjs\u001b[39m\u001b[38;5;124m\"\u001b[39m])\n\u001b[1;32m    144\u001b[0m \u001b[38;5;28;01mdef\u001b[39;00m \u001b[38;5;21mconcat\u001b[39m(\n\u001b[1;32m    145\u001b[0m     objs: Iterable[NDFrame] \u001b[38;5;241m|\u001b[39m Mapping[Hashable, NDFrame],\n\u001b[0;32m   (...)\u001b[0m\n\u001b[1;32m    154\u001b[0m     copy: \u001b[38;5;28mbool\u001b[39m \u001b[38;5;241m=\u001b[39m \u001b[38;5;28;01mTrue\u001b[39;00m,\n\u001b[1;32m    155\u001b[0m ) \u001b[38;5;241m-\u001b[39m\u001b[38;5;241m>\u001b[39m DataFrame \u001b[38;5;241m|\u001b[39m Series:\n\u001b[1;32m    156\u001b[0m     \u001b[38;5;124;03m\"\"\"\u001b[39;00m\n\u001b[1;32m    157\u001b[0m \u001b[38;5;124;03m    Concatenate pandas objects along a particular axis with optional set logic\u001b[39;00m\n\u001b[1;32m    158\u001b[0m \u001b[38;5;124;03m    along the other axes.\u001b[39;00m\n\u001b[0;32m   (...)\u001b[0m\n\u001b[1;32m    345\u001b[0m \u001b[38;5;124;03m    ValueError: Indexes have overlapping values: ['a']\u001b[39;00m\n\u001b[1;32m    346\u001b[0m \u001b[38;5;124;03m    \"\"\"\u001b[39;00m\n\u001b[0;32m--> 347\u001b[0m     op \u001b[38;5;241m=\u001b[39m \u001b[43m_Concatenator\u001b[49m\u001b[43m(\u001b[49m\n\u001b[1;32m    348\u001b[0m \u001b[43m        \u001b[49m\u001b[43mobjs\u001b[49m\u001b[43m,\u001b[49m\n\u001b[1;32m    349\u001b[0m \u001b[43m        \u001b[49m\u001b[43maxis\u001b[49m\u001b[38;5;241;43m=\u001b[39;49m\u001b[43maxis\u001b[49m\u001b[43m,\u001b[49m\n\u001b[1;32m    350\u001b[0m \u001b[43m        \u001b[49m\u001b[43mignore_index\u001b[49m\u001b[38;5;241;43m=\u001b[39;49m\u001b[43mignore_index\u001b[49m\u001b[43m,\u001b[49m\n\u001b[1;32m    351\u001b[0m \u001b[43m        \u001b[49m\u001b[43mjoin\u001b[49m\u001b[38;5;241;43m=\u001b[39;49m\u001b[43mjoin\u001b[49m\u001b[43m,\u001b[49m\n\u001b[1;32m    352\u001b[0m \u001b[43m        \u001b[49m\u001b[43mkeys\u001b[49m\u001b[38;5;241;43m=\u001b[39;49m\u001b[43mkeys\u001b[49m\u001b[43m,\u001b[49m\n\u001b[1;32m    353\u001b[0m \u001b[43m        \u001b[49m\u001b[43mlevels\u001b[49m\u001b[38;5;241;43m=\u001b[39;49m\u001b[43mlevels\u001b[49m\u001b[43m,\u001b[49m\n\u001b[1;32m    354\u001b[0m \u001b[43m        \u001b[49m\u001b[43mnames\u001b[49m\u001b[38;5;241;43m=\u001b[39;49m\u001b[43mnames\u001b[49m\u001b[43m,\u001b[49m\n\u001b[1;32m    355\u001b[0m \u001b[43m        \u001b[49m\u001b[43mverify_integrity\u001b[49m\u001b[38;5;241;43m=\u001b[39;49m\u001b[43mverify_integrity\u001b[49m\u001b[43m,\u001b[49m\n\u001b[1;32m    356\u001b[0m \u001b[43m        \u001b[49m\u001b[43mcopy\u001b[49m\u001b[38;5;241;43m=\u001b[39;49m\u001b[43mcopy\u001b[49m\u001b[43m,\u001b[49m\n\u001b[1;32m    357\u001b[0m \u001b[43m        \u001b[49m\u001b[43msort\u001b[49m\u001b[38;5;241;43m=\u001b[39;49m\u001b[43msort\u001b[49m\u001b[43m,\u001b[49m\n\u001b[1;32m    358\u001b[0m \u001b[43m    \u001b[49m\u001b[43m)\u001b[49m\n\u001b[1;32m    360\u001b[0m     \u001b[38;5;28;01mreturn\u001b[39;00m op\u001b[38;5;241m.\u001b[39mget_result()\n",
      "File \u001b[0;32m/opt/homebrew/anaconda3/lib/python3.9/site-packages/pandas/core/reshape/concat.py:382\u001b[0m, in \u001b[0;36m_Concatenator.__init__\u001b[0;34m(self, objs, axis, join, keys, levels, names, ignore_index, verify_integrity, copy, sort)\u001b[0m\n\u001b[1;32m    368\u001b[0m \u001b[38;5;28;01mdef\u001b[39;00m \u001b[38;5;21m__init__\u001b[39m(\n\u001b[1;32m    369\u001b[0m     \u001b[38;5;28mself\u001b[39m,\n\u001b[1;32m    370\u001b[0m     objs: Iterable[NDFrame] \u001b[38;5;241m|\u001b[39m Mapping[Hashable, NDFrame],\n\u001b[0;32m   (...)\u001b[0m\n\u001b[1;32m    379\u001b[0m     sort\u001b[38;5;241m=\u001b[39m\u001b[38;5;28;01mFalse\u001b[39;00m,\n\u001b[1;32m    380\u001b[0m ):\n\u001b[1;32m    381\u001b[0m     \u001b[38;5;28;01mif\u001b[39;00m \u001b[38;5;28misinstance\u001b[39m(objs, (ABCSeries, ABCDataFrame, \u001b[38;5;28mstr\u001b[39m)):\n\u001b[0;32m--> 382\u001b[0m         \u001b[38;5;28;01mraise\u001b[39;00m \u001b[38;5;167;01mTypeError\u001b[39;00m(\n\u001b[1;32m    383\u001b[0m             \u001b[38;5;124m\"\u001b[39m\u001b[38;5;124mfirst argument must be an iterable of pandas \u001b[39m\u001b[38;5;124m\"\u001b[39m\n\u001b[1;32m    384\u001b[0m             \u001b[38;5;124mf\u001b[39m\u001b[38;5;124m'\u001b[39m\u001b[38;5;124mobjects, you passed an object of type \u001b[39m\u001b[38;5;124m\"\u001b[39m\u001b[38;5;132;01m{\u001b[39;00m\u001b[38;5;28mtype\u001b[39m(objs)\u001b[38;5;241m.\u001b[39m\u001b[38;5;18m__name__\u001b[39m\u001b[38;5;132;01m}\u001b[39;00m\u001b[38;5;124m\"\u001b[39m\u001b[38;5;124m'\u001b[39m\n\u001b[1;32m    385\u001b[0m         )\n\u001b[1;32m    387\u001b[0m     \u001b[38;5;28;01mif\u001b[39;00m join \u001b[38;5;241m==\u001b[39m \u001b[38;5;124m\"\u001b[39m\u001b[38;5;124mouter\u001b[39m\u001b[38;5;124m\"\u001b[39m:\n\u001b[1;32m    388\u001b[0m         \u001b[38;5;28mself\u001b[39m\u001b[38;5;241m.\u001b[39mintersect \u001b[38;5;241m=\u001b[39m \u001b[38;5;28;01mFalse\u001b[39;00m\n",
      "\u001b[0;31mTypeError\u001b[0m: first argument must be an iterable of pandas objects, you passed an object of type \"DataFrame\""
     ]
    }
   ],
   "source": [
    "pd.concat(X_t"
   ]
  },
  {
   "cell_type": "code",
   "execution_count": null,
   "id": "1906a84c-1837-45e3-899d-7311adffbb63",
   "metadata": {},
   "outputs": [],
   "source": [
    "\n",
    "# classification report:\n",
    "print(\n",
    "    classification_report(y_test,\n",
    "                      y_pred))"
   ]
  },
  {
   "cell_type": "code",
   "execution_count": null,
   "id": "272c8e54-0789-41b9-b897-477fa6ff693e",
   "metadata": {},
   "outputs": [],
   "source": [
    "# print(export_text(clf4, feature_names=features))"
   ]
  },
  {
   "cell_type": "markdown",
   "id": "0f622a84-cbe7-441c-af0a-7b06f3e59e0a",
   "metadata": {},
   "source": [
    "##### Decision Tree 4 seems to be my best model overall. It has a recall on the positive of .53 and accuracy actually improved slightly for the validation set. Accuracy is above baseline by about 9%"
   ]
  },
  {
   "cell_type": "code",
   "execution_count": null,
   "id": "b008bab7-771e-4751-9c0b-46619cc3a3a7",
   "metadata": {},
   "outputs": [],
   "source": [
    "plt.figure(figsize=(25,25))\n",
    "plot_tree(clf4,feature_names=features)\n",
    "plt.show()"
   ]
  },
  {
   "cell_type": "code",
   "execution_count": null,
   "id": "4347ba97-9e5a-4488-8961-eb3d94c462d4",
   "metadata": {},
   "outputs": [],
   "source": [
    "print(classification_report(y_train, train.baseline_prediction))"
   ]
  }
 ],
 "metadata": {
  "kernelspec": {
   "display_name": "Python 3 (ipykernel)",
   "language": "python",
   "name": "python3"
  },
  "language_info": {
   "codemirror_mode": {
    "name": "ipython",
    "version": 3
   },
   "file_extension": ".py",
   "mimetype": "text/x-python",
   "name": "python",
   "nbconvert_exporter": "python",
   "pygments_lexer": "ipython3",
   "version": "3.9.13"
  }
 },
 "nbformat": 4,
 "nbformat_minor": 5
}
