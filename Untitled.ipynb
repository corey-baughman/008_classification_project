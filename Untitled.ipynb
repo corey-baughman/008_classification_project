{
 "cells": [
  {
   "cell_type": "markdown",
   "id": "bc357dbc-0eea-4a64-bc32-cc5aea63e975",
   "metadata": {},
   "source": [
    "# Telco Churn Project Notebook 1"
   ]
  }
 ],
 "metadata": {
  "kernelspec": {
   "display_name": "Python 3 (ipykernel)",
   "language": "python",
   "name": "python3"
  },
  "language_info": {
   "codemirror_mode": {
    "name": "ipython",
    "version": 3
   },
   "file_extension": ".py",
   "mimetype": "text/x-python",
   "name": "python",
   "nbconvert_exporter": "python",
   "pygments_lexer": "ipython3",
   "version": "3.9.13"
  }
 },
 "nbformat": 4,
 "nbformat_minor": 5
}
